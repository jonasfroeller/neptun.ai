{
 "cells": [
  {
   "attachments": {},
   "cell_type": "markdown",
   "metadata": {},
   "source": [
    "# RWKV v5-base 1B5 / embedding init-range 1e-01 / 1k\n",
    "This model is based on the RWKV standard 1B5 model\n",
    "\n",
    "- 24 layers\n",
    "- 2048 embedding size\n",
    "\n",
    "Going through the modified memory training for v5 models, across various initial embedding model weights\n",
    "\n",
    "**Note:** This project assumes you have the rwkv-infctx conda env setup"
   ]
  },
  {
   "attachments": {},
   "cell_type": "markdown",
   "metadata": {},
   "source": [
    "# Basic Setup"
   ]
  },
  {
   "cell_type": "code",
   "execution_count": 8,
   "metadata": {},
   "outputs": [],
   "source": [
    "# First lets setup the various directories, and init the model\n",
    "!mkdir -p ../../../../model/\n",
    "!mkdir -p ../../../../datapath/\n",
    "!mkdir -p ../../../../checkpoint/"
   ]
  },
  {
   "cell_type": "code",
   "execution_count": 9,
   "metadata": {},
   "outputs": [
    {
     "name": "stdout",
     "output_type": "stream",
     "text": [
      "DEEPSPEED_STRAT: deepspeed_stage_2_offload\n",
      "ENABLE_WANDB: True\n",
      "GPU_DEVICES: auto\n",
      "POS_LOSS_BIAS: 1.0\n",
      "NOTEBOOK_DIR: /home/ubuntu/rwkv5x-tokenshift-exp-A/notebook/experiment/position_loss_bias\n",
      "INFERENCE_DIR: /home/ubuntu/rwkv5x-tokenshift-exp-A/RWKV-v5\n",
      "TRAINER_DIR: /home/ubuntu/rwkv5x-tokenshift-exp-A/RWKV-v5\n",
      "PROJECT_DIR: /home/ubuntu/rwkv5x-tokenshift-exp-A\n"
     ]
    }
   ],
   "source": [
    "DEEPSPEED_STRAT=\"deepspeed_stage_2_offload\"\n",
    "GPU_DEVICES=\"auto\"\n",
    "ENABLE_WANDB=True\n",
    "EMBED_SCALE=0.1\n",
    "POS_LOSS_BIAS=1.0\n",
    "\n",
    "WANDB_PREFIX=f\"v5base-1B5-E{EMBED_SCALE}-P{POS_LOSS_BIAS}\"\n",
    "\n",
    "EMBED_SCALE_LABEL=str(EMBED_SCALE).replace(\".\", \"_\")\n",
    "POS_LOSS_BIAS_LABEL=str(POS_LOSS_BIAS).replace(\".\", \"_\")\n",
    "FILENAME_PREFIX=f\"v5base-1B5-E{EMBED_SCALE_LABEL}-P{POS_LOSS_BIAS_LABEL}\"\n",
    "\n",
    "print(\"DEEPSPEED_STRAT:\", DEEPSPEED_STRAT)\n",
    "print(\"ENABLE_WANDB:\", ENABLE_WANDB)\n",
    "print(\"GPU_DEVICES:\", GPU_DEVICES)\n",
    "print(\"POS_LOSS_BIAS:\", POS_LOSS_BIAS)\n",
    "\n",
    "if ENABLE_WANDB:\n",
    "    WANDB_MODE=\"online\"\n",
    "else:\n",
    "    WANDB_MODE=\"disabled\"\n",
    "\n",
    "# Computing the notebook, and various paths\n",
    "import os\n",
    "NOTEBOOK_DIR=os.path.dirname(os.path.abspath(\"__file__\"))\n",
    "PROJECT_DIR=os.path.abspath(os.path.join(NOTEBOOK_DIR, \"../../../\"))\n",
    "TRAINER_DIR=os.path.abspath(os.path.join(PROJECT_DIR, \"./RWKV-v5/\"))\n",
    "INFERENCE_DIR=os.path.abspath(os.path.join(PROJECT_DIR, \"./RWKV-v5/\"))\n",
    "\n",
    "print(\"NOTEBOOK_DIR:\", NOTEBOOK_DIR)\n",
    "print(\"INFERENCE_DIR:\", INFERENCE_DIR)\n",
    "print(\"TRAINER_DIR:\", TRAINER_DIR)\n",
    "print(\"PROJECT_DIR:\", PROJECT_DIR)"
   ]
  },
  {
   "cell_type": "code",
   "execution_count": 10,
   "metadata": {},
   "outputs": [
    {
     "name": "stdout",
     "output_type": "stream",
     "text": [
      "[2023-08-18 07:28:33,720] [INFO] [real_accelerator.py:133:get_accelerator] Setting ds_accelerator to cuda (auto detect)\n",
      "[RWKV.model] Running RWKV model using 'torch-jit' with torch '2.0.1'\n",
      "---- Initializing model ----\n",
      "No of layers: 24\n",
      "Embedding size: 2048\n",
      "Output model path: ../model/L24-D2048-E0_1-neox-v5base-init.pth\n",
      "Vocab size: 50277\n",
      "Emb scale: 0.1\n",
      "---- ----- ----\n",
      "Model exists, skipping init_model\n"
     ]
    }
   ],
   "source": [
    "# Init the model\n",
    "!cd \"{TRAINER_DIR}\" && \\\n",
    "    export RWKV_WAVENET_LAYERS=\"{RWKV_WAVENET_LAYERS}\" && \\\n",
    "    python3 ./init_model.py \\\n",
    "        --n_layer 24 --n_embd 2048 \\\n",
    "        --emb-scale \"{EMBED_SCALE}\" \\\n",
    "        --vocab_size neox --skip-if-exists \\\n",
    "        \"../model/L24-D2048-E{EMBED_SCALE_LABEL}-neox-v5base-init.pth\""
   ]
  },
  {
   "cell_type": "markdown",
   "metadata": {},
   "source": [
    "## Enwiki 10k training"
   ]
  },
  {
   "cell_type": "code",
   "execution_count": 11,
   "metadata": {},
   "outputs": [
    {
     "name": "stdout",
     "output_type": "stream",
     "text": [
      "Map (num_proc=32): 100%|██████████| 10000/10000 [00:15<00:00, 659.24 examples/s]\n",
      "Filter (num_proc=32): 100%|██████| 10000/10000 [00:07<00:00, 1365.99 examples/s]\n",
      "Map (num_proc=32): 100%|████████████| 8110/8110 [00:08<00:00, 943.88 examples/s]\n",
      "Saving the dataset (1/1 shards): 100%|█| 5335/5335 [00:00<00:00, 86838.09 exampl\n",
      "Saving the dataset (1/1 shards): 100%|█| 27/27 [00:00<00:00, 4771.27 examples/s]\n"
     ]
    }
   ],
   "source": [
    "# Lets preload the requried dataset \n",
    "!cd \"{TRAINER_DIR}\" && \\\n",
    "    python3 preload_datapath.py \"{NOTEBOOK_DIR}/v5base-1B5-enwiki-1k.yaml\""
   ]
  },
  {
   "cell_type": "code",
   "execution_count": 20,
   "metadata": {},
   "outputs": [
    {
     "name": "stdout",
     "output_type": "stream",
     "text": [
      "[2023-08-18 07:33:05,839] [INFO] [real_accelerator.py:133:get_accelerator] Setting ds_accelerator to cuda (auto detect)\n",
      "[RWKV.model] Running RWKV model using 'torch-jit' with torch '2.0.1'\n",
      "/home/ubuntu/anaconda3/envs/rwkv-infctx/lib/python3.11/site-packages/lightning/pytorch/cli.py:484: UserWarning: LightningCLI's args parameter is intended to run from within Python like if it were from the command line. To prevent mistakes it is not recommended to provide both args and command line arguments, got: sys.argv[1:]=['fit', '-c', '/home/ubuntu/rwkv5x-tokenshift-exp-A/notebook/experiment/position_loss_bias/v5base-1B5-enwiki-1k.yaml', '--trainer.logger.init_args.name=v5base-1B5-E0.1-P1.0 - Enwiki-1k Foundation (train-ctx=1k, deepspeed_stage_2_offload)', '--trainer.strategy=deepspeed_stage_2_offload', '--trainer.devices=auto', '--trainer.callbacks.init_args.dirpath=../checkpoint/v5base-1B5-E0_1-P1_0-enwiki-1k/', '--model.load_model=../model/L24-D2048-E0_1-neox-v5base-init.pth', '--model.ctx_len=1024', '--model.bptt_learning_range=1'], args=['fit', '-c', '/home/ubuntu/rwkv5x-tokenshift-exp-A/notebook/experiment/position_loss_bias/v5base-1B5-enwiki-1k.yaml', '--trainer.logger.init_args.name=v5base-1B5-E0.1-P1.0 - Enwiki-1k Foundation (train-ctx=1k, deepspeed_stage_2_offload)', '--trainer.strategy=deepspeed_stage_2_offload', '--trainer.devices=auto', '--trainer.callbacks.init_args.dirpath=../checkpoint/v5base-1B5-E0_1-P1_0-enwiki-1k/', '--model.load_model=../model/L24-D2048-E0_1-neox-v5base-init.pth', '--model.ctx_len=1024', '--model.bptt_learning_range=1'].\n",
      "  rank_zero_warn(\n",
      "/home/ubuntu/anaconda3/envs/rwkv-infctx/lib/python3.11/site-packages/lightning/fabric/utilities/seed.py:39: UserWarning: No seed found, seed set to 3947160840\n",
      "  rank_zero_warn(f\"No seed found, seed set to {seed}\")\n",
      "Global seed set to 3947160840\n",
      "\u001b[34m\u001b[1mwandb\u001b[0m: Currently logged in as: \u001b[33mpicocreator\u001b[0m. Use \u001b[1m`wandb login --relogin`\u001b[0m to force relogin\n",
      "cat: /sys/module/amdgpu/initstate: No such file or directory\n",
      "ERROR:root:Driver not initialized (amdgpu not found in modules)\n",
      "\u001b[34m\u001b[1mwandb\u001b[0m: Tracking run with wandb version 0.15.8\n",
      "\u001b[34m\u001b[1mwandb\u001b[0m: Run data is saved locally in \u001b[35m\u001b[1m./wandb/run-20230818_073307-0awfv2qd\u001b[0m\n",
      "\u001b[34m\u001b[1mwandb\u001b[0m: Run \u001b[1m`wandb offline`\u001b[0m to turn off syncing.\n",
      "\u001b[34m\u001b[1mwandb\u001b[0m: Syncing run \u001b[33mv5base-1B5-E0.1-P1.0 - Enwiki-1k Foundation (train-ctx=1k, deepspeed_stage_2_offload)\u001b[0m\n",
      "\u001b[34m\u001b[1mwandb\u001b[0m: ⭐️ View project at \u001b[34m\u001b[4mhttps://wandb.ai/picocreator/RWKV-5X-Experiments\u001b[0m\n",
      "\u001b[34m\u001b[1mwandb\u001b[0m: 🚀 View run at \u001b[34m\u001b[4mhttps://wandb.ai/picocreator/RWKV-5X-Experiments/runs/0awfv2qd\u001b[0m\n",
      "GPU available: True (cuda), used: True\n",
      "TPU available: False, using: 0 TPU cores\n",
      "IPU available: False, using: 0 IPUs\n",
      "HPU available: False, using: 0 HPUs\n",
      "\n",
      "\n",
      "[RWKV.Trainer] Applying 'target_batch_size' with the following:\n",
      "   - target_batch_size:       16\n",
      "   - num_nodes:               1\n",
      "   - num_devices:             1\n",
      "   - accumulate_grad_batches: 16\n",
      "   - effective_batch_size:    16\n",
      "\n",
      "Saving the dataset (1/1 shards): 100%|█| 5335/5335 [00:00<00:00, 50690.85 exampl\n",
      "Saving the dataset (1/1 shards): 100%|█| 27/27 [00:00<00:00, 4510.00 examples/s]\n",
      "[rank: 0] Global seed set to 3947160840\n",
      "initializing deepspeed distributed: GLOBAL_RANK: 0, MEMBER: 1/1\n",
      "[2023-08-18 07:33:22,687] [WARNING] [comm.py:152:init_deepspeed_backend] NCCL backend in DeepSpeed not yet implemented\n",
      "Enabling DeepSpeed BF16.\n",
      "LOCAL_RANK: 0 - CUDA_VISIBLE_DEVICES: [0]\n",
      "#\n",
      "# RWKV lighting_trainer.py important notes \n",
      "# https://github.com/RWKV/RWKV-infctx-trainer \n",
      "#\n",
      "# - Ensure your host is not running cuda 12.0 (use either 11.8, or >=12.1), as this is known to have freeze issues\n",
      "# - The terms used in wandb / the progress bar can be confusing, see the github README.md for beter clarifications\n",
      "# - When resuming from checkpoint, the estimated time is inaccurate\n",
      "#\n",
      "\n",
      "[RWKV.model] Configuring optimizer with\n",
      "    - lr_init:  6.000e-04 (0.0006)\n",
      "    - lr_final: 4.000e-04 (0.0004)\n",
      "\n",
      "Using /home/ubuntu/.cache/torch_extensions/py311_cu118 as PyTorch extensions root...\n",
      "Detected CUDA files, patching ldflags\n",
      "Emitting ninja build file /home/ubuntu/.cache/torch_extensions/py311_cu118/cpu_adam/build.ninja...\n",
      "Building extension module cpu_adam...\n",
      "Allowing ninja to set a default number of workers... (overridable by setting the environment variable MAX_JOBS=N)\n",
      "ninja: no work to do.\n",
      "Loading extension module cpu_adam...\n",
      "Time to load cpu_adam op: 2.3290693759918213 seconds\n",
      "Loading `train_dataloader` to estimate number of stepping batches.\n",
      "Rank: 0 partition count [1, 1] and sizes[(1515106304, False), (1536, False)] \n",
      "\n",
      "  | Name   | Type       | Params\n",
      "--------------------------------------\n",
      "0 | emb    | Embedding  | 102 M \n",
      "1 | blocks | ModuleList | 1.3 B \n",
      "2 | ln_out | LayerNorm  | 4.1 K \n",
      "3 | head   | Linear     | 102 M \n",
      "--------------------------------------\n",
      "1.5 B     Trainable params\n",
      "0         Non-trainable params\n",
      "1.5 B     Total params\n",
      "6,060.431 Total estimated model params size (MB)\n",
      "Epoch 0:   7%| | 400/5335 [10:50<2:13:41,  1.63s/it, v_num=v2qd, train/loss=8.50/home/ubuntu/anaconda3/envs/rwkv-infctx/lib/python3.11/site-packages/torch/nn/modules/module.py:1802: UserWarning: Positional args are being deprecated, use kwargs instead. Refer to https://pytorch.org/docs/master/generated/torch.nn.Module.html#torch.nn.Module.state_dict for details.\n",
      "  warnings.warn(\n",
      "Epoch 0:  10%| | 533/5335 [18:16<2:44:42,  2.06s/it, v_num=v2qd, train/loss=7.72\n",
      "Validation: 0it [00:00, ?it/s]\u001b[A\n",
      "Validation:   0%|                                        | 0/27 [00:00<?, ?it/s]\u001b[A\n",
      "Validation DataLoader 0:   0%|                           | 0/27 [00:00<?, ?it/s]\u001b[A\n",
      "Validation DataLoader 0:   4%|▋                  | 1/27 [00:00<00:14,  1.86it/s]\u001b[A\n",
      "Validation DataLoader 0:   7%|█▍                 | 2/27 [00:01<00:14,  1.78it/s]\u001b[A\n",
      "Validation DataLoader 0:  11%|██                 | 3/27 [00:01<00:13,  1.77it/s]\u001b[A\n",
      "Validation DataLoader 0:  15%|██▊                | 4/27 [00:02<00:12,  1.82it/s]\u001b[A\n",
      "Validation DataLoader 0:  19%|███▌               | 5/27 [00:02<00:12,  1.77it/s]\u001b[A\n",
      "Validation DataLoader 0:  22%|████▏              | 6/27 [00:03<00:11,  1.83it/s]\u001b[A\n",
      "Validation DataLoader 0:  26%|████▉              | 7/27 [00:03<00:11,  1.76it/s]\u001b[A\n",
      "Validation DataLoader 0:  30%|█████▋             | 8/27 [00:04<00:10,  1.84it/s]\u001b[A\n",
      "Validation DataLoader 0:  33%|██████▎            | 9/27 [00:05<00:10,  1.79it/s]\u001b[A\n",
      "Validation DataLoader 0:  37%|██████▋           | 10/27 [00:05<00:09,  1.84it/s]\u001b[A\n",
      "Validation DataLoader 0:  41%|███████▎          | 11/27 [00:06<00:08,  1.80it/s]\u001b[A\n",
      "Validation DataLoader 0:  44%|████████          | 12/27 [00:06<00:08,  1.83it/s]\u001b[A\n",
      "Validation DataLoader 0:  48%|████████▋         | 13/27 [00:07<00:07,  1.80it/s]\u001b[A\n",
      "Validation DataLoader 0:  52%|█████████▎        | 14/27 [00:07<00:07,  1.81it/s]\u001b[A\n",
      "Validation DataLoader 0:  56%|██████████        | 15/27 [00:08<00:06,  1.83it/s]\u001b[A\n",
      "Validation DataLoader 0:  59%|██████████▋       | 16/27 [00:08<00:05,  1.85it/s]\u001b[A\n",
      "Validation DataLoader 0:  63%|███████████▎      | 17/27 [00:09<00:05,  1.83it/s]\u001b[A\n",
      "Validation DataLoader 0:  67%|████████████      | 18/27 [00:10<00:05,  1.80it/s]\u001b[A\n",
      "Validation DataLoader 0:  70%|████████████▋     | 19/27 [00:10<00:04,  1.85it/s]\u001b[A\n",
      "Validation DataLoader 0:  74%|█████████████▎    | 20/27 [00:10<00:03,  1.88it/s]\u001b[A\n",
      "Validation DataLoader 0:  78%|██████████████    | 21/27 [00:11<00:03,  1.85it/s]\u001b[A\n",
      "Validation DataLoader 0:  81%|██████████████▋   | 22/27 [00:11<00:02,  1.87it/s]\u001b[A\n",
      "Validation DataLoader 0:  85%|███████████████▎  | 23/27 [00:12<00:02,  1.85it/s]\u001b[A\n",
      "Validation DataLoader 0:  89%|████████████████  | 24/27 [00:12<00:01,  1.86it/s]\u001b[A\n",
      "Validation DataLoader 0:  93%|████████████████▋ | 25/27 [00:13<00:01,  1.85it/s]\u001b[A\n",
      "Validation DataLoader 0:  96%|█████████████████▎| 26/27 [00:14<00:00,  1.84it/s]\u001b[A\n",
      "Epoch 0:  10%| | 533/5335 [18:38<2:47:52,  2.10s/it, v_num=v2qd, train/loss=7.72\u001b[A\n",
      "Epoch 0:  10%| | 543/5335 [18:52<2:46:37,  2.09s/it, v_num=v2qd, train/loss=7.75\u001b[A"
     ]
    }
   ],
   "source": [
    "# Start the foundation model training\n",
    "!cd \"{TRAINER_DIR}\" && \\\n",
    "    export WANDB_MODE=\"{WANDB_MODE}\" && \\\n",
    "    python lightning_trainer.py fit \\\n",
    "        -c \"{NOTEBOOK_DIR}/v5base-1B5-enwiki-1k.yaml\" \\\n",
    "        --trainer.logger.init_args.name=\"{WANDB_PREFIX} - Enwiki-1k Foundation (train-ctx=1k, {DEEPSPEED_STRAT})\" \\\n",
    "        --trainer.strategy=\"{DEEPSPEED_STRAT}\" \\\n",
    "        --trainer.devices=\"{GPU_DEVICES}\" \\\n",
    "        --trainer.callbacks.init_args.dirpath=\"../checkpoint/{FILENAME_PREFIX}-enwiki-1k/\" \\\n",
    "        --model.load_model=\"../model/L24-D2048-E{EMBED_SCALE_LABEL}-neox-v5base-init.pth\" \\\n",
    "        --model.ctx_len=1024 \\\n",
    "        --model.bptt_learning_range=1"
   ]
  },
  {
   "cell_type": "code",
   "execution_count": 21,
   "metadata": {},
   "outputs": [
    {
     "name": "stdout",
     "output_type": "stream",
     "text": [
      "[2023-08-18 07:53:13,822] [INFO] [real_accelerator.py:133:get_accelerator] Setting ds_accelerator to cuda (auto detect)\n",
      "usage: export_checkpoint.py [-h] [-d] checkpoint_dir output_file dtype\n",
      "export_checkpoint.py: error: the following arguments are required: dtype\n",
      "ls: cannot access '../model/v5base-1B5-E0_1-P1_0-enwiki-1k.pth': No such file or directory\n"
     ]
    }
   ],
   "source": [
    "# Lets export the model from the checkpoint\n",
    "!cd \"{TRAINER_DIR}\" && \\\n",
    "    python export_checkpoint.py \"../checkpoint/{FILENAME_PREFIX}-enwiki-1k/last.ckpt\" \"../model/{FILENAME_PREFIX}-enwiki-1k.pth\"\n",
    "!cd \"{TRAINER_DIR}\" && ls -alh \"../model/{FILENAME_PREFIX}-enwiki-1k.pth\""
   ]
  },
  {
   "cell_type": "code",
   "execution_count": 22,
   "metadata": {},
   "outputs": [
    {
     "name": "stdout",
     "output_type": "stream",
     "text": [
      "[2023-08-18 07:53:21,423] [INFO] [real_accelerator.py:133:get_accelerator] Setting ds_accelerator to cuda (auto detect)\n",
      "[RWKV.model] Running RWKV model using 'torch-jit' with torch '2.0.1'\n",
      "Traceback (most recent call last):\n",
      "  File \"/home/ubuntu/rwkv5x-tokenshift-exp-A/RWKV-v5/dragon_test.py\", line 52, in <module>\n",
      "    model = SimpleRWKV(MODEL_PATH, device=DEVICE)\n",
      "            ^^^^^^^^^^^^^^^^^^^^^^^^^^^^^^^^^^^^^\n",
      "  File \"/home/ubuntu/rwkv5x-tokenshift-exp-A/RWKV-v5/src/model.py\", line 1388, in __init__\n",
      "    self.model = RWKV(**model_config)\n",
      "                 ^^^^^^^^^^^^^^^^^^^^\n",
      "  File \"/home/ubuntu/rwkv5x-tokenshift-exp-A/RWKV-v5/src/model.py\", line 596, in __init__\n",
      "    raise ValueError(f\"load_model file '{load_model}' does not exist\")\n",
      "ValueError: load_model file '../model/v5base-1B5-E0_1-P1_0-enwiki-1k.pth' does not exist\n"
     ]
    }
   ],
   "source": [
    "# # Lets do a quick dragon prompt validation\n",
    "!cd \"{INFERENCE_DIR}\" && \\\n",
    "    export RWKV_WAVENET_LAYERS=\"{RWKV_WAVENET_LAYERS}\" && \\\n",
    "    python3 dragon_test.py \"../model/{FILENAME_PREFIX}-enwiki-1k.pth\" \"cuda fp32\""
   ]
  },
  {
   "cell_type": "code",
   "execution_count": 23,
   "metadata": {},
   "outputs": [
    {
     "name": "stdout",
     "output_type": "stream",
     "text": [
      "python3: can't open file '/home/ubuntu/rwkv5x-tokenshift-exp-A/notebook/experiment/position_loss_bias/../memory_script/eval_v5_memory_guided.py': [Errno 2] No such file or directory\n"
     ]
    }
   ],
   "source": [
    "# Lets do a quick memory test\n",
    "!python3 ../memory_script/eval_v5_memory_guided.py \"{PROJECT_DIR}/model/{FILENAME_PREFIX}-enwiki-1k.pth\""
   ]
  }
 ],
 "metadata": {
  "kernelspec": {
   "display_name": "Python 3 (ipykernel)",
   "language": "python",
   "name": "python3"
  },
  "language_info": {
   "codemirror_mode": {
    "name": "ipython",
    "version": 3
   },
   "file_extension": ".py",
   "mimetype": "text/x-python",
   "name": "python",
   "nbconvert_exporter": "python",
   "pygments_lexer": "ipython3",
   "version": "3.11.4"
  }
 },
 "nbformat": 4,
 "nbformat_minor": 4
}
