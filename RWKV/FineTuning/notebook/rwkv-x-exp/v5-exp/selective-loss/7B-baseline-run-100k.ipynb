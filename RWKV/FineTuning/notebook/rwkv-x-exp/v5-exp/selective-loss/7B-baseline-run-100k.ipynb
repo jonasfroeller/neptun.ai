{
 "cells": [
  {
   "cell_type": "markdown",
   "metadata": {},
   "source": [
    "# 7B Baseline Run\n",
    "\n",
    "Without any experimental tweaks"
   ]
  },
  {
   "cell_type": "code",
   "execution_count": 2,
   "metadata": {},
   "outputs": [
    {
     "name": "stdout",
     "output_type": "stream",
     "text": [
      "ENABLE_WANDB: True\n",
      "GPU_DEVICES: auto\n",
      "NOTEBOOK_DIR: /home/picocreator/rwkv-proj/RWKV-infctx-trainer/notebook/rwkv-x-exp/v5-exp/selective-loss\n",
      "TRAINER_DIR: /home/picocreator/rwkv-proj/RWKV-infctx-trainer/RWKV-v5\n",
      "PROJECT_DIR: /home/picocreator/rwkv-proj/RWKV-infctx-trainer\n"
     ]
    }
   ],
   "source": [
    "GPU_DEVICES=\"auto\"\n",
    "ENABLE_WANDB=True\n",
    "WANDB_PREFIX=\"infctx-v5-selective-loss\"\n",
    "DEEPSPEED_STRAT=\"deepspeed_stage_2\"\n",
    "\n",
    "print(\"ENABLE_WANDB:\", ENABLE_WANDB)\n",
    "print(\"GPU_DEVICES:\", GPU_DEVICES)\n",
    "\n",
    "if ENABLE_WANDB:\n",
    "    WANDB_MODE=\"online\"\n",
    "else:\n",
    "    WANDB_MODE=\"disabled\"\n",
    "\n",
    "# The model sizing\n",
    "MODEL_NAME=\"RWKV-5-World-7B-v2-OnlyForTest_72%_trained-20231204-ctx4096.pth\"\n",
    "\n",
    "# Computing the notebook, and various paths\n",
    "import os\n",
    "NOTEBOOK_DIR=os.path.dirname(os.path.abspath(\"__file__\"))\n",
    "PROJECT_DIR=os.path.abspath(os.path.join(NOTEBOOK_DIR, \"../../../../\"))\n",
    "TRAINER_DIR=os.path.abspath(os.path.join(PROJECT_DIR, \"./RWKV-v5/\"))\n",
    "\n",
    "print(\"NOTEBOOK_DIR:\", NOTEBOOK_DIR)\n",
    "print(\"TRAINER_DIR:\", TRAINER_DIR)\n",
    "print(\"PROJECT_DIR:\", PROJECT_DIR)"
   ]
  },
  {
   "cell_type": "code",
   "execution_count": 5,
   "metadata": {},
   "outputs": [
    {
     "name": "stdout",
     "output_type": "stream",
     "text": [
      "--2024-01-20 05:49:01--  https://huggingface.co/BlinkDL/temp/resolve/2d905a2a30c778086a048e4f65ca75d9f7f9849d/RWKV-5-World-7B-v2-OnlyForTest_72%25_trained-20231204-ctx4096.pth?download=true\n",
      "Resolving huggingface.co (huggingface.co)... 13.33.33.20, 13.33.33.110, 13.33.33.55, ...\n",
      "Connecting to huggingface.co (huggingface.co)|13.33.33.20|:443... connected.\n",
      "HTTP request sent, awaiting response... "
     ]
    },
    {
     "name": "stdout",
     "output_type": "stream",
     "text": [
      "302 Found\n",
      "Location: https://cdn-lfs.huggingface.co/repos/20/96/209600910186b29a71a230a87a5a555fd33bc07c57dabd6f6f9fd03523c5326f/1bc5c11ab576f130752f004698fd45e278094c671a4f6c067aeeeee9ebe74a48?response-content-disposition=attachment%3B+filename*%3DUTF-8%27%27RWKV-5-World-7B-v2-OnlyForTest_72%2525_trained-20231204-ctx4096.pth%3B+filename%3D%22RWKV-5-World-7B-v2-OnlyForTest_72%25_trained-20231204-ctx4096.pth%22%3B&Expires=1705960141&Policy=eyJTdGF0ZW1lbnQiOlt7IkNvbmRpdGlvbiI6eyJEYXRlTGVzc1RoYW4iOnsiQVdTOkVwb2NoVGltZSI6MTcwNTk2MDE0MX19LCJSZXNvdXJjZSI6Imh0dHBzOi8vY2RuLWxmcy5odWdnaW5nZmFjZS5jby9yZXBvcy8yMC85Ni8yMDk2MDA5MTAxODZiMjlhNzFhMjMwYTg3YTVhNTU1ZmQzM2JjMDdjNTdkYWJkNmY2ZjlmZDAzNTIzYzUzMjZmLzFiYzVjMTFhYjU3NmYxMzA3NTJmMDA0Njk4ZmQ0NWUyNzgwOTRjNjcxYTRmNmMwNjdhZWVlZWU5ZWJlNzRhNDg%7EcmVzcG9uc2UtY29udGVudC1kaXNwb3NpdGlvbj0qIn1dfQ__&Signature=IxiX31-ebesq21xv4qkvpg6mAPXpnSh1MNiaba%7E%7EXEuvqBUd8jCh1SAwRKOnTUbJrQRye6AKOZg1AvrxYfHDP7dj4%7EUs0KCF-W0H4dFEe1MZv4mpE9xKG7FNaqStUtOh-XMSbpj7s30eWnhiUJTQMkCb%7EAutrFreWzNDNSNey6d%7EBxkurlmKxVQmNSKHfTSIN-dMvVQuf9SD6PGKbyPR8lwzvisEaJ4tSF%7EVgTf2lBbeFrbFWXOoWkRqF-j%7EmjWEzP-fCfTqmFBqA8f3P62jeXrhu-QqhAh5Id3bN25P29OVgJVl6jgyfkix-SaN%7EDkwDS5QxYhguKnyamkxIRaDtQ__&Key-Pair-Id=KVTP0A1DKRTAX [following]\n",
      "--2024-01-20 05:49:01--  https://cdn-lfs.huggingface.co/repos/20/96/209600910186b29a71a230a87a5a555fd33bc07c57dabd6f6f9fd03523c5326f/1bc5c11ab576f130752f004698fd45e278094c671a4f6c067aeeeee9ebe74a48?response-content-disposition=attachment%3B+filename*%3DUTF-8%27%27RWKV-5-World-7B-v2-OnlyForTest_72%2525_trained-20231204-ctx4096.pth%3B+filename%3D%22RWKV-5-World-7B-v2-OnlyForTest_72%25_trained-20231204-ctx4096.pth%22%3B&Expires=1705960141&Policy=eyJTdGF0ZW1lbnQiOlt7IkNvbmRpdGlvbiI6eyJEYXRlTGVzc1RoYW4iOnsiQVdTOkVwb2NoVGltZSI6MTcwNTk2MDE0MX19LCJSZXNvdXJjZSI6Imh0dHBzOi8vY2RuLWxmcy5odWdnaW5nZmFjZS5jby9yZXBvcy8yMC85Ni8yMDk2MDA5MTAxODZiMjlhNzFhMjMwYTg3YTVhNTU1ZmQzM2JjMDdjNTdkYWJkNmY2ZjlmZDAzNTIzYzUzMjZmLzFiYzVjMTFhYjU3NmYxMzA3NTJmMDA0Njk4ZmQ0NWUyNzgwOTRjNjcxYTRmNmMwNjdhZWVlZWU5ZWJlNzRhNDg%7EcmVzcG9uc2UtY29udGVudC1kaXNwb3NpdGlvbj0qIn1dfQ__&Signature=IxiX31-ebesq21xv4qkvpg6mAPXpnSh1MNiaba%7E%7EXEuvqBUd8jCh1SAwRKOnTUbJrQRye6AKOZg1AvrxYfHDP7dj4%7EUs0KCF-W0H4dFEe1MZv4mpE9xKG7FNaqStUtOh-XMSbpj7s30eWnhiUJTQMkCb%7EAutrFreWzNDNSNey6d%7EBxkurlmKxVQmNSKHfTSIN-dMvVQuf9SD6PGKbyPR8lwzvisEaJ4tSF%7EVgTf2lBbeFrbFWXOoWkRqF-j%7EmjWEzP-fCfTqmFBqA8f3P62jeXrhu-QqhAh5Id3bN25P29OVgJVl6jgyfkix-SaN%7EDkwDS5QxYhguKnyamkxIRaDtQ__&Key-Pair-Id=KVTP0A1DKRTAX\n",
      "Resolving cdn-lfs.huggingface.co (cdn-lfs.huggingface.co)... 13.33.33.45, 13.33.33.93, 13.33.33.119, ...\n",
      "Connecting to cdn-lfs.huggingface.co (cdn-lfs.huggingface.co)|13.33.33.45|:443... connected.\n",
      "HTTP request sent, awaiting response... 200 OK\n",
      "Length: 15036197229 (14G) [binary/octet-stream]\n",
      "Saving to: ‘RWKV-5-World-7B-v2-OnlyForTest_72%_trained-20231204-ctx4096.pth?download=true’\n",
      "\n",
      "RWKV-5-World-7B-v2- 100%[===================>]  14.00G  13.5MB/s    in 16m 12s \n",
      "\n",
      "2024-01-20 06:05:14 (14.8 MB/s) - ‘RWKV-5-World-7B-v2-OnlyForTest_72%_trained-20231204-ctx4096.pth?download=true’ saved [15036197229/15036197229]\n",
      "\n"
     ]
    }
   ],
   "source": [
    "# Lets wget the model files\n",
    "!mkdir -p \"{PROJECT_DIR}/model\"\n",
    "!cd \"{PROJECT_DIR}/model\" && \\\n",
    "    wget -O \"{MODEL_NAME}\" -nc \"https://huggingface.co/BlinkDL/temp/resolve/2d905a2a30c778086a048e4f65ca75d9f7f9849d/RWKV-5-World-7B-v2-OnlyForTest_72%25_trained-20231204-ctx4096.pth?download=true\""
   ]
  },
  {
   "cell_type": "code",
   "execution_count": 3,
   "metadata": {},
   "outputs": [
    {
     "name": "stdout",
     "output_type": "stream",
     "text": [
      "Map (num_proc=160): 100%|███| 1000000/1000000 [00:10<00:00, 95906.26 examples/s]\n",
      "Filter (num_proc=160): 100%|█| 1000000/1000000 [00:05<00:00, 179927.28 examples/\n",
      "Map (num_proc=160): 100%|█████| 120800/120800 [00:03<00:00, 37916.96 examples/s]\n",
      "Map (num_proc=160): 100%|█████| 120800/120800 [00:05<00:00, 21204.90 examples/s]\n",
      "Saving the dataset (4/4 shards): 100%|█| 18147/18147 [00:04<00:00, 4124.48 examp\n",
      "Saving the dataset (1/1 shards): 100%|█| 13423/13423 [00:00<00:00, 25885.58 exam\n"
     ]
    }
   ],
   "source": [
    "# Lets preload the requried dataset \n",
    "!cd \"{TRAINER_DIR}\" && \\\n",
    "    python3 preload_datapath.py \"{NOTEBOOK_DIR}/config/enwiki_100k-world-16k-packing.yaml\""
   ]
  },
  {
   "cell_type": "markdown",
   "metadata": {},
   "source": [
    "# Multi-epoch training"
   ]
  },
  {
   "cell_type": "code",
   "execution_count": null,
   "metadata": {},
   "outputs": [],
   "source": [
    "!cd \"{TRAINER_DIR}\" && \\\n",
    "    export WANDB_MODE=\"{WANDB_MODE}\" && \\\n",
    "    python3 lightning_trainer.py fit \\\n",
    "        -c \"{NOTEBOOK_DIR}/config/enwiki_100k-world-16k-packing.yaml\" \\\n",
    "        --model.load_model=\"../model/{MODEL_NAME}\" \\\n",
    "        --data.skip_datapath_setup=True \\\n",
    "        --trainer.callbacks.init_args.dirpath=\"../checkpoint/selective-loss/baseline/\" \\\n",
    "        --trainer.logger.init_args.name=\"{WANDB_PREFIX} - 7B - Baseline (packsize=16k, {DEEPSPEED_STRAT})\" \\\n",
    "        --trainer.strategy=\"{DEEPSPEED_STRAT}\" \\\n",
    "        --trainer.target_batch_size=512 \\\n",
    "        --trainer.microbatch_size=10 \\\n",
    "        --model.ctx_len=4096 \\\n",
    "        --trainer.devices=\"{GPU_DEVICES}\""
   ]
  }
 ],
 "metadata": {
  "kernelspec": {
   "display_name": "rwkv-infctx",
   "language": "python",
   "name": "python3"
  },
  "language_info": {
   "codemirror_mode": {
    "name": "ipython",
    "version": 3
   },
   "file_extension": ".py",
   "mimetype": "text/x-python",
   "name": "python",
   "nbconvert_exporter": "python",
   "pygments_lexer": "ipython3",
   "version": "3.11.7"
  }
 },
 "nbformat": 4,
 "nbformat_minor": 4
}
