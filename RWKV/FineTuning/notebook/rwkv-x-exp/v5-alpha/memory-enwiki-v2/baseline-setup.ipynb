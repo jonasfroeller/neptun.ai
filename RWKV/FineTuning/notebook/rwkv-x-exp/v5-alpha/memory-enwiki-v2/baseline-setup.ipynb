{
 "cells": [
  {
   "attachments": {},
   "cell_type": "markdown",
   "metadata": {},
   "source": [
    "# RWKV memory size experiment\n",
    "\n",
    "> This project assumes you have the rwkv-infctx conda env setup, and you are executing in that environment - see the main README.md for the conda env setup steps\n",
    ">\n",
    "> All training runs (except dryrun) is configured to log to weights and bias, comment out the logger in the config file if you want to avoid this"
   ]
  },
  {
   "attachments": {},
   "cell_type": "markdown",
   "metadata": {
    "notebookRunGroups": {
     "groupValue": ""
    }
   },
   "source": [
    "## Preparing the init models (which we will tune from)\n",
    "( skip if you have already done this setup, from trainer-validation, or something similar )"
   ]
  },
  {
   "cell_type": "code",
   "execution_count": 1,
   "metadata": {},
   "outputs": [
    {
     "name": "stdout",
     "output_type": "stream",
     "text": [
      "--2023-07-14 00:03:20--  https://huggingface.co/picocreator/memory-size-experiment-for-rwkv/resolve/main/Echo-B-1B4-Init.pth\n",
      "Resolving huggingface.co (huggingface.co)... 13.224.249.44, 13.224.249.119, 13.224.249.10, ...\n",
      "Connecting to huggingface.co (huggingface.co)|13.224.249.44|:443... connected.\n",
      "HTTP request sent, awaiting response... 302 Found\n",
      "Location: https://cdn-lfs.huggingface.co/repos/cb/ef/cbef09abb2634a3375b28868bffa285226dfeabedec89b28c2fb302221164d66/aca2f7f217b1d21de5bbf528588684c3f8b2ea16d1b431c551f1681e58ec2de3?response-content-disposition=attachment%3B+filename*%3DUTF-8%27%27Echo-B-1B4-Init.pth%3B+filename%3D%22Echo-B-1B4-Init.pth%22%3B&Expires=1689523400&Policy=eyJTdGF0ZW1lbnQiOlt7IkNvbmRpdGlvbiI6eyJEYXRlTGVzc1RoYW4iOnsiQVdTOkVwb2NoVGltZSI6MTY4OTUyMzQwMH19LCJSZXNvdXJjZSI6Imh0dHBzOi8vY2RuLWxmcy5odWdnaW5nZmFjZS5jby9yZXBvcy9jYi9lZi9jYmVmMDlhYmIyNjM0YTMzNzViMjg4NjhiZmZhMjg1MjI2ZGZlYWJlZGVjODliMjhjMmZiMzAyMjIxMTY0ZDY2L2FjYTJmN2YyMTdiMWQyMWRlNWJiZjUyODU4ODY4NGMzZjhiMmVhMTZkMWI0MzFjNTUxZjE2ODFlNThlYzJkZTM%7EcmVzcG9uc2UtY29udGVudC1kaXNwb3NpdGlvbj0qIn1dfQ__&Signature=eIlC71Vi5PZBslpGOR9gs2iDfG6q39xYgH5HsOgz4SUCxdpMLfcyKYuunA7tltiV5WmGtT9TYju%7EEKqR8T5FxWWzppOtb6n5ilcHXNs4Kas18orY9wAKXbh%7EYQHeusgdCvTuGLFws6eWi84S5Ofw46EDiTmkB7DNb1vtJH4SIzmODBs-lNs8FxUzNO5f8%7Eic433K5JJhDrElRwdHOBmPmiczoyyaDZ-20rLwo7zJJltgupbnafSSLevUlL9xWbrMqL0yZi72rflXF9f7RZTra-4eytdZIMNfh7MFuazl9aVkn6vE1LZdB6y2awll-THZ-yRyrTk%7EmpFiFJow-MvfOg__&Key-Pair-Id=KVTP0A1DKRTAX [following]\n",
      "--2023-07-14 00:03:20--  https://cdn-lfs.huggingface.co/repos/cb/ef/cbef09abb2634a3375b28868bffa285226dfeabedec89b28c2fb302221164d66/aca2f7f217b1d21de5bbf528588684c3f8b2ea16d1b431c551f1681e58ec2de3?response-content-disposition=attachment%3B+filename*%3DUTF-8%27%27Echo-B-1B4-Init.pth%3B+filename%3D%22Echo-B-1B4-Init.pth%22%3B&Expires=1689523400&Policy=eyJTdGF0ZW1lbnQiOlt7IkNvbmRpdGlvbiI6eyJEYXRlTGVzc1RoYW4iOnsiQVdTOkVwb2NoVGltZSI6MTY4OTUyMzQwMH19LCJSZXNvdXJjZSI6Imh0dHBzOi8vY2RuLWxmcy5odWdnaW5nZmFjZS5jby9yZXBvcy9jYi9lZi9jYmVmMDlhYmIyNjM0YTMzNzViMjg4NjhiZmZhMjg1MjI2ZGZlYWJlZGVjODliMjhjMmZiMzAyMjIxMTY0ZDY2L2FjYTJmN2YyMTdiMWQyMWRlNWJiZjUyODU4ODY4NGMzZjhiMmVhMTZkMWI0MzFjNTUxZjE2ODFlNThlYzJkZTM%7EcmVzcG9uc2UtY29udGVudC1kaXNwb3NpdGlvbj0qIn1dfQ__&Signature=eIlC71Vi5PZBslpGOR9gs2iDfG6q39xYgH5HsOgz4SUCxdpMLfcyKYuunA7tltiV5WmGtT9TYju%7EEKqR8T5FxWWzppOtb6n5ilcHXNs4Kas18orY9wAKXbh%7EYQHeusgdCvTuGLFws6eWi84S5Ofw46EDiTmkB7DNb1vtJH4SIzmODBs-lNs8FxUzNO5f8%7Eic433K5JJhDrElRwdHOBmPmiczoyyaDZ-20rLwo7zJJltgupbnafSSLevUlL9xWbrMqL0yZi72rflXF9f7RZTra-4eytdZIMNfh7MFuazl9aVkn6vE1LZdB6y2awll-THZ-yRyrTk%7EmpFiFJow-MvfOg__&Key-Pair-Id=KVTP0A1DKRTAX\n",
      "Resolving cdn-lfs.huggingface.co (cdn-lfs.huggingface.co)... 18.155.68.73, 18.155.68.94, 18.155.68.98, ...\n",
      "Connecting to cdn-lfs.huggingface.co (cdn-lfs.huggingface.co)|18.155.68.73|:443... connected.\n",
      "HTTP request sent, awaiting response... 200 OK\n",
      "Length: 2825882403 (2.6G) [application/zip]\n",
      "Saving to: ‘Echo-B-1B4-Init.pth’\n",
      "\n",
      "Echo-B-1B4-Init.pth 100%[===================>]   2.63G  4.11MB/s    in 12m 36s \n",
      "\n",
      "2023-07-14 00:15:57 (3.57 MB/s) - ‘Echo-B-1B4-Init.pth’ saved [2825882403/2825882403]\n",
      "\n",
      "ls: cannot access '../../../model/Echo-A-1B5-Init.pth': No such file or directory\n"
     ]
    }
   ],
   "source": [
    "# First lets setup the various directories, and get the blank init model, these init model was generated\n",
    "# using the original RWKV-LM repo (as at this point of writing, this repo cannot init a model)\n",
    "# As such I have preinitialized these blank models and uploaded them to HF for convinence\n",
    "!mkdir -p ../../../model/\n",
    "!mkdir -p ../../../datapath/\n",
    "!mkdir -p ../../../checkpoint/\n",
    "!rm -rf ../../../model/Echo-B-1B-Init.pth\n",
    "!cd ../../../model/ && wget https://huggingface.co/picocreator/memory-size-experiment-for-rwkv/resolve/main/Echo-B-1B4-Init.pth\n",
    "!ls -alh ../../../model/Echo-B-1B4-Init.pth"
   ]
  }
 ],
 "metadata": {
  "kernelspec": {
   "display_name": "rwkv-exp",
   "language": "python",
   "name": "python3"
  },
  "language_info": {
   "codemirror_mode": {
    "name": "ipython",
    "version": 3
   },
   "file_extension": ".py",
   "mimetype": "text/x-python",
   "name": "python",
   "nbconvert_exporter": "python",
   "pygments_lexer": "ipython3",
   "version": "3.11.4"
  },
  "orig_nbformat": 4
 },
 "nbformat": 4,
 "nbformat_minor": 2
}
