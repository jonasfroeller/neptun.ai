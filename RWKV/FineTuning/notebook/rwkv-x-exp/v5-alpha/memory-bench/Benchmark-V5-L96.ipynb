{
 "cells": [
  {
   "cell_type": "markdown",
   "metadata": {},
   "source": [
    "## Custom Experimental Memory benchmarking\n",
    "\n",
    "The following is meant to observe the memory performance in a more verbose CSV logging mode, for the baseline raven models"
   ]
  },
  {
   "cell_type": "code",
   "execution_count": null,
   "metadata": {},
   "outputs": [],
   "source": [
    "# Lets download the custom models\n",
    "!mkdir -p ../../../model/\n",
    "!cd ../../../model/ && wget -nc \"https://huggingface.co/rwkv-x-dev/rwkv-x-playground/resolve/main/experiment/rwkv-x-exp/v5-memory/v5-L96-D1024-E0_1-mem-ctx-8k.pth\""
   ]
  },
  {
   "cell_type": "code",
   "execution_count": null,
   "metadata": {},
   "outputs": [],
   "source": [
    "!ls -lh ../../../model/"
   ]
  },
  {
   "cell_type": "code",
   "execution_count": null,
   "metadata": {},
   "outputs": [],
   "source": [
    "!python -m pip install aiocsv aiofiles"
   ]
  },
  {
   "cell_type": "markdown",
   "metadata": {},
   "source": [
    "# 1B5 V5 benchmark"
   ]
  },
  {
   "cell_type": "code",
   "execution_count": null,
   "metadata": {},
   "outputs": [],
   "source": [
    "!python3 ./memory_script/eval_v5_memory_guided.py \"../../../model/v5-L96-D1024-E0_1-mem-ctx-8k.pth\" \"./logs/v5-L96-D1024-E0_1-mem-ctx-8k-1k.csv\""
   ]
  },
  {
   "cell_type": "code",
   "execution_count": null,
   "metadata": {},
   "outputs": [],
   "source": [
    "!python3 ./memory_script/eval_v5_memory_guided.py \"../../../model/v5-L96-D1024-E0_1-mem-ctx-8k.pth\" \"./logs/v5-L96-D1024-E0_1-mem-ctx-8k-4k.csv\" 1100 4000"
   ]
  },
  {
   "cell_type": "code",
   "execution_count": null,
   "metadata": {},
   "outputs": [],
   "source": [
    "!python3 ./memory_script/eval_v5_memory_guided.py \"../../../model/v5-L96-D1024-E0_1-mem-ctx-8k.pth\" \"./logs/v5-L96-D1024-E0_1-mem-ctx-8k-16k.csv\" 4100 16000"
   ]
  }
 ],
 "metadata": {
  "language_info": {
   "name": "python"
  },
  "orig_nbformat": 4
 },
 "nbformat": 4,
 "nbformat_minor": 2
}
