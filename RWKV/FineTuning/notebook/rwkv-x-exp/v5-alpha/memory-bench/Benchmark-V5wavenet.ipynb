{
 "cells": [
  {
   "cell_type": "markdown",
   "metadata": {},
   "source": [
    "## Custom Experimental Memory benchmarking\n",
    "\n",
    "The following is meant to observe the memory performance in a more verbose CSV logging mode, for the baseline raven models"
   ]
  },
  {
   "cell_type": "code",
   "execution_count": null,
   "metadata": {},
   "outputs": [],
   "source": [
    "# Lets download the custom models\n",
    "!mkdir -p ../../../model/\n",
    "!cd ../../../model/ && wget -nc \"https://huggingface.co/picocreator/memory-size-experiment-for-rwkv/resolve/main/v5-Wave/WaveV5-C-Tune5.pth\"\n",
    "!cd ../../../model/ && wget -nc \"https://huggingface.co/picocreator/RWKV-x-playground/resolve/main/V5-16k/v5wave-1B5-E0_1-ctx-16k-preview-30p.pth\""
   ]
  },
  {
   "cell_type": "code",
   "execution_count": null,
   "metadata": {},
   "outputs": [],
   "source": [
    "!ls -lh ../../../model/"
   ]
  },
  {
   "cell_type": "code",
   "execution_count": null,
   "metadata": {},
   "outputs": [],
   "source": [
    "!python -m pip install aiocsv aiofiles"
   ]
  },
  {
   "cell_type": "markdown",
   "metadata": {},
   "source": [
    "# 1B5 Wavenet V5 benchmark"
   ]
  },
  {
   "cell_type": "code",
   "execution_count": null,
   "metadata": {},
   "outputs": [],
   "source": [
    "!python3 ./memory_script/eval_v5wavenet_memory_guided.py \"../../../model/WaveV5-C-Tune5.pth\" \"./logs/WavenetV5-C-Tune5-1k.csv\""
   ]
  },
  {
   "cell_type": "code",
   "execution_count": null,
   "metadata": {},
   "outputs": [],
   "source": [
    "!python3 ./memory_script/eval_v5wavenet_memory_guided.py \"../../../model/WaveV5-C-Tune5.pth\" \"./logs/WavenetV5-C-Tune5-4k.csv\" 1100 4000"
   ]
  },
  {
   "cell_type": "code",
   "execution_count": null,
   "metadata": {},
   "outputs": [],
   "source": [
    "!python3 ./memory_script/eval_v5wavenet_memory_guided.py \"../../../model/WaveV5-C-Tune5.pth\" \"./logs/WavenetV5-C-Tune5-16k.csv\" 4100 16000"
   ]
  },
  {
   "cell_type": "markdown",
   "metadata": {},
   "source": [
    "# 1B5 Wavenet Ctx 16k - V5 benchmark\n",
    "with 13 wavenet layers"
   ]
  },
  {
   "cell_type": "code",
   "execution_count": null,
   "metadata": {},
   "outputs": [],
   "source": [
    "!export RWKV_WAVENET_LAYERS=\"13\" && \\\n",
    "    python3 ./memory_script/eval_v5wavenet_memory_guided.py \"../../../model/v5wave-1B5-E0_1-ctx-16k-preview-30p.pth\" \"./logs/v5wave-13-1B5-E0_1-ctx-16k-1k.csv\""
   ]
  },
  {
   "cell_type": "code",
   "execution_count": null,
   "metadata": {},
   "outputs": [],
   "source": [
    "!export RWKV_WAVENET_LAYERS=\"13\" && \\\n",
    "    python3 ./memory_script/eval_v5wavenet_memory_guided.py \"../../../model/v5wave-1B5-E0_1-ctx-16k-preview-30p.pth\" \"./logs/v5wave-13-1B5-E0_1-ctx-16k-4k.csv\" 1100 4000"
   ]
  },
  {
   "cell_type": "code",
   "execution_count": null,
   "metadata": {},
   "outputs": [],
   "source": [
    "!export RWKV_WAVENET_LAYERS=\"13\" && \\\n",
    "    python3 ./memory_script/eval_v5wavenet_memory_guided.py \"../../../model/v5wave-1B5-E0_1-ctx-16k-preview-30p.pth\" \"./logs/v5wave-13-1B5-E0_1-ctx-16k-16k.csv\" 4100 16000"
   ]
  }
 ],
 "metadata": {
  "kernelspec": {
   "display_name": "rwkv-infctx",
   "language": "python",
   "name": "python3"
  },
  "language_info": {
   "codemirror_mode": {
    "name": "ipython",
    "version": 3
   },
   "file_extension": ".py",
   "mimetype": "text/x-python",
   "name": "python",
   "nbconvert_exporter": "python",
   "pygments_lexer": "ipython3",
   "version": "3.11.4"
  },
  "orig_nbformat": 4
 },
 "nbformat": 4,
 "nbformat_minor": 2
}
