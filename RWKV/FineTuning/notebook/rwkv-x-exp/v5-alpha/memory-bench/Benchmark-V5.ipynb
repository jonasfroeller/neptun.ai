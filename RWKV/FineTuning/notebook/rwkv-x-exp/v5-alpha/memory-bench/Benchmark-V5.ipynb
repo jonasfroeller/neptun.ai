{
 "cells": [
  {
   "cell_type": "markdown",
   "metadata": {},
   "source": [
    "## Custom Experimental Memory benchmarking\n",
    "\n",
    "The following is meant to observe the memory performance in a more verbose CSV logging mode, for the baseline raven models"
   ]
  },
  {
   "cell_type": "code",
   "execution_count": 3,
   "metadata": {},
   "outputs": [
    {
     "name": "stdout",
     "output_type": "stream",
     "text": [
      "File ‘BaseV5-C-Tune5.pth’ already there; not retrieving.\n",
      "\n",
      "File ‘EWR-1B5-E0_1-mem-ctx-8k.pth’ already there; not retrieving.\n",
      "\n",
      "--2023-09-05 20:57:00--  https://huggingface.co/rwkv-x-dev/rwkv-x-playground/resolve/main/experiment/rwkv-x-exp/v5-slim-memory/v5-L6-D1024-E0_1-mem-ctx-8k.pth\n",
      "Resolving huggingface.co (huggingface.co)... 18.154.227.69, 18.154.227.67, 18.154.227.7, ...\n",
      "Connecting to huggingface.co (huggingface.co)|18.154.227.69|:443... connected.\n",
      "HTTP request sent, awaiting response... 302 Found\n",
      "Location: https://cdn-lfs.huggingface.co/repos/2e/f7/2ef78555202aa92abdbdf476ce3d0fd5a8b15f7245edf0b80d4d30572355f30d/cefa72363bb7dfddb34723de3848f3cc5116c1ff15481f5562317058324b8bf0?response-content-disposition=attachment%3B+filename*%3DUTF-8%27%27v5-L6-D1024-E0_1-mem-ctx-8k.pth%3B+filename%3D%22v5-L6-D1024-E0_1-mem-ctx-8k.pth%22%3B&Expires=1694206620&Policy=eyJTdGF0ZW1lbnQiOlt7IkNvbmRpdGlvbiI6eyJEYXRlTGVzc1RoYW4iOnsiQVdTOkVwb2NoVGltZSI6MTY5NDIwNjYyMH19LCJSZXNvdXJjZSI6Imh0dHBzOi8vY2RuLWxmcy5odWdnaW5nZmFjZS5jby9yZXBvcy8yZS9mNy8yZWY3ODU1NTIwMmFhOTJhYmRiZGY0NzZjZTNkMGZkNWE4YjE1ZjcyNDVlZGYwYjgwZDRkMzA1NzIzNTVmMzBkL2NlZmE3MjM2M2JiN2RmZGRiMzQ3MjNkZTM4NDhmM2NjNTExNmMxZmYxNTQ4MWY1NTYyMzE3MDU4MzI0YjhiZjA%7EcmVzcG9uc2UtY29udGVudC1kaXNwb3NpdGlvbj0qIn1dfQ__&Signature=vkWlxrFlkEDOvKnJgmbCpgC08KFv9XbF-hL0Kz8Dmew72LRfg6Zd1CoFPGq2gN9xFAIVvbv9Nq8Ui3JZUaUxZk%7E%7ECI45fysdUZC5seFzGxbf%7E9sEmrOqs8X3NqBPbsE3c114mwwkYd-hP-20BsGBRq6Fk6rejIqCKKlmuxrq-9N%7E3UhwZmr3PRKYXjOzGN7Va0VHXW85rc%7E7MDqwzmpWZS6lijZI9gekxWljff1K%7EO5MCconqi1todidZpR9iY0fpIAqvzmW36v39izJ%7EUFOh4FperululDnpWSFxglTSBYGigyaKwfA9v9h%7EazsysT9LxvH%7Ep2M-5Wh9Dl7OIEo8A__&Key-Pair-Id=KVTP0A1DKRTAX [following]\n",
      "--2023-09-05 20:57:00--  https://cdn-lfs.huggingface.co/repos/2e/f7/2ef78555202aa92abdbdf476ce3d0fd5a8b15f7245edf0b80d4d30572355f30d/cefa72363bb7dfddb34723de3848f3cc5116c1ff15481f5562317058324b8bf0?response-content-disposition=attachment%3B+filename*%3DUTF-8%27%27v5-L6-D1024-E0_1-mem-ctx-8k.pth%3B+filename%3D%22v5-L6-D1024-E0_1-mem-ctx-8k.pth%22%3B&Expires=1694206620&Policy=eyJTdGF0ZW1lbnQiOlt7IkNvbmRpdGlvbiI6eyJEYXRlTGVzc1RoYW4iOnsiQVdTOkVwb2NoVGltZSI6MTY5NDIwNjYyMH19LCJSZXNvdXJjZSI6Imh0dHBzOi8vY2RuLWxmcy5odWdnaW5nZmFjZS5jby9yZXBvcy8yZS9mNy8yZWY3ODU1NTIwMmFhOTJhYmRiZGY0NzZjZTNkMGZkNWE4YjE1ZjcyNDVlZGYwYjgwZDRkMzA1NzIzNTVmMzBkL2NlZmE3MjM2M2JiN2RmZGRiMzQ3MjNkZTM4NDhmM2NjNTExNmMxZmYxNTQ4MWY1NTYyMzE3MDU4MzI0YjhiZjA%7EcmVzcG9uc2UtY29udGVudC1kaXNwb3NpdGlvbj0qIn1dfQ__&Signature=vkWlxrFlkEDOvKnJgmbCpgC08KFv9XbF-hL0Kz8Dmew72LRfg6Zd1CoFPGq2gN9xFAIVvbv9Nq8Ui3JZUaUxZk%7E%7ECI45fysdUZC5seFzGxbf%7E9sEmrOqs8X3NqBPbsE3c114mwwkYd-hP-20BsGBRq6Fk6rejIqCKKlmuxrq-9N%7E3UhwZmr3PRKYXjOzGN7Va0VHXW85rc%7E7MDqwzmpWZS6lijZI9gekxWljff1K%7EO5MCconqi1todidZpR9iY0fpIAqvzmW36v39izJ%7EUFOh4FperululDnpWSFxglTSBYGigyaKwfA9v9h%7EazsysT9LxvH%7Ep2M-5Wh9Dl7OIEo8A__&Key-Pair-Id=KVTP0A1DKRTAX\n",
      "Resolving cdn-lfs.huggingface.co (cdn-lfs.huggingface.co)... 108.138.64.49, 108.138.64.36, 108.138.64.121, ...\n",
      "Connecting to cdn-lfs.huggingface.co (cdn-lfs.huggingface.co)|108.138.64.49|:443... connected.\n",
      "HTTP request sent, awaiting response... 200 OK\n",
      "Length: 369696005 (353M) [binary/octet-stream]\n",
      "Saving to: ‘v5-L6-D1024-E0_1-mem-ctx-8k.pth’\n",
      "\n",
      "v5-L6-D1024-E0_1-me 100%[===================>] 352.57M  48.3MB/s    in 7.0s    \n",
      "\n",
      "2023-09-05 20:57:07 (50.2 MB/s) - ‘v5-L6-D1024-E0_1-mem-ctx-8k.pth’ saved [369696005/369696005]\n",
      "\n",
      "File ‘v5-L6-D2048-E0_1-mem-ctx-8k.pth’ already there; not retrieving.\n",
      "\n",
      "File ‘v5-L6-D4096-E0_1-mem-ctx-8k.pth’ already there; not retrieving.\n",
      "\n"
     ]
    }
   ],
   "source": [
    "# Lets download the custom models\n",
    "!mkdir -p ../../../model/\n",
    "!cd ../../../model/ && wget -nc \"https://huggingface.co/picocreator/memory-size-experiment-for-rwkv/resolve/main/RWKV-v5-baseline/BaseV5-C-Tune5.pth\"\n",
    "!cd ../../../model/ && wget -nc \"https://huggingface.co/picocreator/RWKV-x-playground/resolve/main/V5-16k/EWR-1B5-E0_1-mem-ctx-8k.pth\"\n",
    "!cd ../../../model/ && wget -nc \"https://huggingface.co/rwkv-x-dev/rwkv-x-playground/resolve/main/experiment/rwkv-x-exp/v5-slim-memory/v5-L6-D1024-E0_1-mem-ctx-8k.pth\"\n",
    "!cd ../../../model/ && wget -nc \"https://huggingface.co/picocreator/RWKV-x-playground/resolve/main/V5-16k/v5-L6-D2048-E0_1-mem-ctx-8k.pth\"\n",
    "!cd ../../../model/ && wget -nc \"https://huggingface.co/picocreator/RWKV-x-playground/resolve/main/V5-16k/v5-L6-D4096-E0_1-mem-ctx-8k.pth\""
   ]
  },
  {
   "cell_type": "code",
   "execution_count": null,
   "metadata": {},
   "outputs": [],
   "source": [
    "!ls -lh ../../../model/"
   ]
  },
  {
   "cell_type": "code",
   "execution_count": null,
   "metadata": {},
   "outputs": [],
   "source": [
    "!python3 -m pip install aiocsv aiofiles"
   ]
  },
  {
   "cell_type": "markdown",
   "metadata": {},
   "source": [
    "# 1B5 V5 benchmark"
   ]
  },
  {
   "cell_type": "code",
   "execution_count": null,
   "metadata": {},
   "outputs": [],
   "source": [
    "!python3 ./memory_script/eval_v5_memory_guided.py \"../../../model/BaseV5-C-Tune5.pth\" \"./logs/BaseV5-C-Tune5-1k.csv\""
   ]
  },
  {
   "cell_type": "code",
   "execution_count": null,
   "metadata": {},
   "outputs": [],
   "source": [
    "!python3 ./memory_script/eval_v5_memory_guided.py \"../../../model/BaseV5-C-Tune5.pth\" \"./logs/BaseV5-C-Tune5-4k.csv\" 1100 4000"
   ]
  },
  {
   "cell_type": "code",
   "execution_count": null,
   "metadata": {},
   "outputs": [],
   "source": [
    "!python3 ./memory_script/eval_v5_memory_guided.py \"../../../model/BaseV5-C-Tune5.pth\" \"./logs/BaseV5-C-Tune5-16k.csv\" 4100 16000"
   ]
  },
  {
   "cell_type": "markdown",
   "metadata": {},
   "source": [
    "# EWR V5 benchmark"
   ]
  },
  {
   "cell_type": "code",
   "execution_count": null,
   "metadata": {},
   "outputs": [],
   "source": [
    "!python3 ./memory_script/eval_v5_memory_guided.py \"../../../model/EWR-1B5-E0_1.pth\" \"./logs/v5-EWR-1B5-E0_1-1k.csv\""
   ]
  },
  {
   "cell_type": "code",
   "execution_count": null,
   "metadata": {},
   "outputs": [],
   "source": [
    "!python3 ./memory_script/eval_v5_memory_guided.py \"../../../model/EWR-1B5-E0_1.pth\" \"./logs/v5-EWR-1B5-E0_1-4k.csv\" 1100 4000"
   ]
  },
  {
   "cell_type": "code",
   "execution_count": null,
   "metadata": {},
   "outputs": [],
   "source": [
    "!python3 ./memory_script/eval_v5_memory_guided.py \"../../../model/EWR-1B5-E0_1.pth\" \"./logs/v5-EWR-1B5-E0_1-16k.csv\" 4100 16000"
   ]
  },
  {
   "cell_type": "markdown",
   "metadata": {},
   "source": [
    "# v5-L6-D1024-E0_1-mem-ctx-8k.pth"
   ]
  },
  {
   "cell_type": "code",
   "execution_count": 4,
   "metadata": {},
   "outputs": [
    {
     "name": "stdout",
     "output_type": "stream",
     "text": [
      "[2023-09-05 20:57:57,050] [INFO] [real_accelerator.py:133:get_accelerator] Setting ds_accelerator to cuda (auto detect)\n",
      "[RWKV.model] Running RWKV model using 'torch-jit' with torch '2.0.1'\n",
      "###\n",
      "### Model validation start ###\n",
      "###\n",
      "## Model validation for 5 tokens : 100.0% similarity, with 5 matched token, and 0 token mismatch\n",
      "## Model validation for 10 tokens : 100.0% similarity, with 10 matched token, and 0 token mismatch\n",
      "## Model validation for 15 tokens : 100.0% similarity, with 15 matched token, and 0 token mismatch\n",
      "## Model validation for 20 tokens : 100.0% similarity, with 20 matched token, and 0 token mismatch\n",
      "## Model validation for 25 tokens : 100.0% similarity, with 25 matched token, and 0 token mismatch\n",
      "## Model validation for 30 tokens : 100.0% similarity, with 30 matched token, and 0 token mismatch\n",
      "## Model validation for 35 tokens : 100.0% similarity, with 35 matched token, and 0 token mismatch\n",
      "## Model validation for 40 tokens : 97.5% similarity, with 39 matched token, and 1 token mismatch\n",
      "## Model validation for 45 tokens : 97.77777777777777% similarity, with 44 matched token, and 1 token mismatch\n",
      "## Model validation for 50 tokens : 94.0% similarity, with 47 matched token, and 3 token mismatch\n",
      "## Model validation for 55 tokens : 85.45454545454545% similarity, with 47 matched token, and 8 token mismatch\n",
      "## Model validation for 60 tokens : 83.33333333333334% similarity, with 50 matched token, and 10 token mismatch\n",
      "## Model validation for 65 tokens : 81.53846153846153% similarity, with 53 matched token, and 12 token mismatch\n",
      "## Model validation for 70 tokens : 72.85714285714285% similarity, with 51 matched token, and 19 token mismatch\n",
      "## Model validation for 75 tokens : 68.0% similarity, with 51 matched token, and 24 token mismatch\n",
      "## Model validation for 80 tokens : 63.74999999999999% similarity, with 51 matched token, and 29 token mismatch\n",
      "## Model validation for 85 tokens : 57.647058823529406% similarity, with 49 matched token, and 36 token mismatch\n",
      "## Model validation for 90 tokens : 58.88888888888889% similarity, with 53 matched token, and 37 token mismatch\n",
      "## Model validation for 95 tokens : 54.736842105263165% similarity, with 52 matched token, and 43 token mismatch\n",
      "## Model validation for 100 tokens : 55.00000000000001% similarity, with 55 matched token, and 45 token mismatch\n",
      "## Model validation for 105 tokens : 56.19047619047619% similarity, with 59 matched token, and 46 token mismatch\n",
      "## Model validation for 110 tokens : 55.45454545454545% similarity, with 61 matched token, and 49 token mismatch\n",
      "## Model validation for 115 tokens : 53.04347826086957% similarity, with 61 matched token, and 54 token mismatch\n",
      "## Model validation for 120 tokens : 48.333333333333336% similarity, with 58 matched token, and 62 token mismatch\n",
      "## Model validation for 125 tokens : 46.400000000000006% similarity, with 58 matched token, and 67 token mismatch\n",
      "## Model validation for 130 tokens : 45.38461538461539% similarity, with 59 matched token, and 71 token mismatch\n",
      "## Model validation for 135 tokens : 44.44444444444444% similarity, with 60 matched token, and 75 token mismatch\n",
      "## Model validation for 140 tokens : 42.142857142857146% similarity, with 59 matched token, and 81 token mismatch\n",
      "## Model validation for 145 tokens : 42.758620689655174% similarity, with 62 matched token, and 83 token mismatch\n",
      "## Model validation for 150 tokens : 41.333333333333336% similarity, with 62 matched token, and 88 token mismatch\n",
      "## Model validation for 160 tokens : 35.0% similarity, with 56 matched token, and 104 token mismatch\n",
      "## Model validation for 170 tokens : 33.52941176470588% similarity, with 57 matched token, and 113 token mismatch\n",
      "## Model validation for 180 tokens : 32.77777777777778% similarity, with 59 matched token, and 121 token mismatch\n",
      "## Model validation for 190 tokens : 32.631578947368425% similarity, with 62 matched token, and 128 token mismatch\n",
      "## Model validation for 200 tokens : 33.0% similarity, with 66 matched token, and 134 token mismatch\n",
      "## Model validation for 210 tokens : 32.38095238095238% similarity, with 68 matched token, and 142 token mismatch\n",
      "## Model validation for 220 tokens : 29.09090909090909% similarity, with 64 matched token, and 156 token mismatch\n",
      "## Model validation for 230 tokens : 28.695652173913043% similarity, with 66 matched token, and 164 token mismatch\n",
      "## Model validation for 240 tokens : 30.833333333333336% similarity, with 74 matched token, and 166 token mismatch\n",
      "## Model validation for 250 tokens : 30.8% similarity, with 77 matched token, and 173 token mismatch\n",
      "## Model validation for 260 tokens : 31.153846153846153% similarity, with 81 matched token, and 179 token mismatch\n",
      "## Model validation for 270 tokens : 28.51851851851852% similarity, with 77 matched token, and 193 token mismatch\n",
      "## Model validation for 280 tokens : 30.0% similarity, with 84 matched token, and 196 token mismatch\n",
      "## Model validation for 290 tokens : 27.586206896551722% similarity, with 80 matched token, and 210 token mismatch\n",
      "## Model validation for 300 tokens : 28.000000000000004% similarity, with 84 matched token, and 216 token mismatch\n",
      "## Model validation for 325 tokens : 26.153846153846157% similarity, with 85 matched token, and 240 token mismatch\n",
      "## Model validation for 350 tokens : 25.142857142857146% similarity, with 88 matched token, and 262 token mismatch\n",
      "## Model validation for 375 tokens : 22.933333333333334% similarity, with 86 matched token, and 289 token mismatch\n",
      "## Model validation for 400 tokens : 22.75% similarity, with 91 matched token, and 309 token mismatch\n",
      "## Model validation for 425 tokens : 22.58823529411765% similarity, with 96 matched token, and 329 token mismatch\n",
      "## Model validation for 450 tokens : 20.88888888888889% similarity, with 94 matched token, and 356 token mismatch\n",
      "## Model validation for 475 tokens : 19.789473684210527% similarity, with 94 matched token, and 381 token mismatch\n",
      "## Model validation for 500 tokens : 18.8% similarity, with 94 matched token, and 406 token mismatch\n",
      "## Model validation for 525 tokens : 18.285714285714285% similarity, with 96 matched token, and 429 token mismatch\n",
      "## Model validation for 550 tokens : 17.636363636363637% similarity, with 97 matched token, and 453 token mismatch\n",
      "## Model validation for 575 tokens : 18.086956521739133% similarity, with 104 matched token, and 471 token mismatch\n",
      "## Model validation for 600 tokens : 17.0% similarity, with 102 matched token, and 498 token mismatch\n",
      "## Model validation for 625 tokens : 16.96% similarity, with 106 matched token, and 519 token mismatch\n",
      "## Model validation for 650 tokens : 15.384615384615385% similarity, with 100 matched token, and 550 token mismatch\n",
      "## Model validation for 675 tokens : 15.851851851851853% similarity, with 107 matched token, and 568 token mismatch\n",
      "## Model validation for 700 tokens : 14.285714285714285% similarity, with 100 matched token, and 600 token mismatch\n",
      "## Model validation for 750 tokens : 14.266666666666666% similarity, with 107 matched token, and 643 token mismatch\n",
      "## Model validation for 800 tokens : 13.375% similarity, with 107 matched token, and 693 token mismatch\n",
      "## Model validation for 850 tokens : 13.529411764705882% similarity, with 115 matched token, and 735 token mismatch\n",
      "## Model validation for 900 tokens : 13.0% similarity, with 117 matched token, and 783 token mismatch\n",
      "## Model validation for 950 tokens : 12.0% similarity, with 114 matched token, and 836 token mismatch\n",
      "## Model validation for 1000 tokens : 11.1% similarity, with 111 matched token, and 889 token mismatch\n",
      "## Finished baseline model to eval output predictive matching (aka 0 memory?), for 1000 tokens\n",
      "###\n",
      "### Model validation end ###\n",
      "###\n"
     ]
    }
   ],
   "source": [
    "!python3 ./memory_script/eval_v5_memory_guided.py \"../../../model/v5-L6-D1024-E0_1-mem-ctx-8k.pth\" \"./logs/v5-L6-D1024-E0_1-1k.csv\""
   ]
  },
  {
   "cell_type": "code",
   "execution_count": 5,
   "metadata": {},
   "outputs": [
    {
     "name": "stdout",
     "output_type": "stream",
     "text": [
      "[2023-09-05 20:58:50,983] [INFO] [real_accelerator.py:133:get_accelerator] Setting ds_accelerator to cuda (auto detect)\n",
      "[RWKV.model] Running RWKV model using 'torch-jit' with torch '2.0.1'\n",
      "###\n",
      "### Model validation start ###\n",
      "###\n",
      "## Model validation for 1100 tokens : 10.363636363636363% similarity, with 114 matched token, and 986 token mismatch\n",
      "## Model validation for 1150 tokens : 9.826086956521738% similarity, with 113 matched token, and 1037 token mismatch\n",
      "## Model validation for 1200 tokens : 9.75% similarity, with 117 matched token, and 1083 token mismatch\n",
      "## Model validation for 1250 tokens : 9.6% similarity, with 120 matched token, and 1130 token mismatch\n",
      "## Model validation for 1300 tokens : 9.230769230769232% similarity, with 120 matched token, and 1180 token mismatch\n",
      "## Model validation for 1350 tokens : 8.592592592592592% similarity, with 116 matched token, and 1234 token mismatch\n",
      "## Model validation for 1400 tokens : 9.071428571428571% similarity, with 127 matched token, and 1273 token mismatch\n",
      "## Model validation for 1450 tokens : 8.827586206896552% similarity, with 128 matched token, and 1322 token mismatch\n",
      "## Model validation for 1500 tokens : 7.933333333333334% similarity, with 119 matched token, and 1381 token mismatch\n",
      "## Model validation for 1550 tokens : 7.677419354838709% similarity, with 119 matched token, and 1431 token mismatch\n",
      "## Model validation for 1600 tokens : 7.9375% similarity, with 127 matched token, and 1473 token mismatch\n",
      "## Model validation for 1650 tokens : 7.212121212121213% similarity, with 119 matched token, and 1531 token mismatch\n",
      "## Model validation for 1700 tokens : 6.88235294117647% similarity, with 117 matched token, and 1583 token mismatch\n",
      "## Model validation for 1750 tokens : 6.800000000000001% similarity, with 119 matched token, and 1631 token mismatch\n",
      "## Model validation for 1800 tokens : 6.888888888888889% similarity, with 124 matched token, and 1676 token mismatch\n",
      "## Model validation for 1850 tokens : 6.594594594594596% similarity, with 122 matched token, and 1728 token mismatch\n",
      "## Model validation for 1900 tokens : 6.368421052631579% similarity, with 121 matched token, and 1779 token mismatch\n",
      "## Model validation for 1950 tokens : 6.102564102564102% similarity, with 119 matched token, and 1831 token mismatch\n",
      "## Model validation for 2000 tokens : 6.0% similarity, with 120 matched token, and 1880 token mismatch\n",
      "## Model validation for 2050 tokens : 5.951219512195122% similarity, with 122 matched token, and 1928 token mismatch\n",
      "## Model validation for 2100 tokens : 5.714285714285714% similarity, with 120 matched token, and 1980 token mismatch\n",
      "## Model validation for 2150 tokens : 5.627906976744186% similarity, with 121 matched token, and 2029 token mismatch\n",
      "## Model validation for 2200 tokens : 5.227272727272727% similarity, with 115 matched token, and 2085 token mismatch\n",
      "## Model validation for 2250 tokens : 5.066666666666666% similarity, with 114 matched token, and 2136 token mismatch\n",
      "## Model validation for 2300 tokens : 5.043478260869565% similarity, with 116 matched token, and 2184 token mismatch\n",
      "## Model validation for 2350 tokens : 4.808510638297872% similarity, with 113 matched token, and 2237 token mismatch\n",
      "## Model validation for 2400 tokens : 4.75% similarity, with 114 matched token, and 2286 token mismatch\n",
      "## Model validation for 2450 tokens : 4.775510204081632% similarity, with 117 matched token, and 2333 token mismatch\n",
      "## Model validation for 2500 tokens : 4.68% similarity, with 117 matched token, and 2383 token mismatch\n",
      "## Model validation for 2550 tokens : 4.627450980392156% similarity, with 118 matched token, and 2432 token mismatch\n",
      "## Model validation for 2600 tokens : 4.576923076923077% similarity, with 119 matched token, and 2481 token mismatch\n",
      "## Model validation for 2650 tokens : 4.60377358490566% similarity, with 122 matched token, and 2528 token mismatch\n",
      "## Model validation for 2700 tokens : 4.62962962962963% similarity, with 125 matched token, and 2575 token mismatch\n",
      "## Model validation for 2750 tokens : 4.618181818181818% similarity, with 127 matched token, and 2623 token mismatch\n",
      "## Model validation for 2800 tokens : 4.5% similarity, with 126 matched token, and 2674 token mismatch\n",
      "## Model validation for 2850 tokens : 4.456140350877193% similarity, with 127 matched token, and 2723 token mismatch\n",
      "## Model validation for 2900 tokens : 4.344827586206897% similarity, with 126 matched token, and 2774 token mismatch\n",
      "## Model validation for 2950 tokens : 4.372881355932203% similarity, with 129 matched token, and 2821 token mismatch\n",
      "## Model validation for 3000 tokens : 4.233333333333333% similarity, with 127 matched token, and 2873 token mismatch\n",
      "## Model validation for 3050 tokens : 4.19672131147541% similarity, with 128 matched token, and 2922 token mismatch\n",
      "## Model validation for 3100 tokens : 4.161290322580645% similarity, with 129 matched token, and 2971 token mismatch\n",
      "## Model validation for 3150 tokens : 4.1269841269841265% similarity, with 130 matched token, and 3020 token mismatch\n",
      "## Model validation for 3200 tokens : 4.125% similarity, with 132 matched token, and 3068 token mismatch\n",
      "## Model validation for 3250 tokens : 4.153846153846154% similarity, with 135 matched token, and 3115 token mismatch\n",
      "## Model validation for 3300 tokens : 4.121212121212121% similarity, with 136 matched token, and 3164 token mismatch\n",
      "## Model validation for 3350 tokens : 3.940298507462687% similarity, with 132 matched token, and 3218 token mismatch\n",
      "## Model validation for 3400 tokens : 3.9411764705882355% similarity, with 134 matched token, and 3266 token mismatch\n",
      "## Model validation for 3450 tokens : 3.91304347826087% similarity, with 135 matched token, and 3315 token mismatch\n",
      "## Model validation for 3500 tokens : 3.9142857142857146% similarity, with 137 matched token, and 3363 token mismatch\n",
      "## Model validation for 3550 tokens : 3.859154929577465% similarity, with 137 matched token, and 3413 token mismatch\n",
      "## Model validation for 3600 tokens : 3.888888888888889% similarity, with 140 matched token, and 3460 token mismatch\n",
      "## Model validation for 3650 tokens : 3.863013698630137% similarity, with 141 matched token, and 3509 token mismatch\n",
      "## Model validation for 3700 tokens : 3.8108108108108105% similarity, with 141 matched token, and 3559 token mismatch\n",
      "## Model validation for 3750 tokens : 3.7600000000000002% similarity, with 141 matched token, and 3609 token mismatch\n",
      "## Model validation for 3800 tokens : 3.763157894736842% similarity, with 143 matched token, and 3657 token mismatch\n",
      "## Model validation for 3850 tokens : 3.766233766233766% similarity, with 145 matched token, and 3705 token mismatch\n",
      "## Model validation for 3900 tokens : 3.717948717948718% similarity, with 145 matched token, and 3755 token mismatch\n",
      "## Model validation for 3950 tokens : 3.645569620253165% similarity, with 144 matched token, and 3806 token mismatch\n",
      "## Model validation for 4000 tokens : 3.6249999999999996% similarity, with 145 matched token, and 3855 token mismatch\n",
      "###\n",
      "### Model validation end ###\n",
      "###\n"
     ]
    }
   ],
   "source": [
    "!python3 ./memory_script/eval_v5_memory_guided.py \"../../../model/v5-L6-D1024-E0_1-mem-ctx-8k.pth\" \"./logs/v5-L6-D1024-E0_1-4k.csv\" 1100 4000"
   ]
  },
  {
   "cell_type": "code",
   "execution_count": 6,
   "metadata": {},
   "outputs": [
    {
     "name": "stdout",
     "output_type": "stream",
     "text": [
      "[2023-09-05 21:02:18,470] [INFO] [real_accelerator.py:133:get_accelerator] Setting ds_accelerator to cuda (auto detect)\n",
      "[RWKV.model] Running RWKV model using 'torch-jit' with torch '2.0.1'\n",
      "###\n",
      "### Model validation start ###\n",
      "###\n",
      "## Model validation for 4100 tokens : 3.6585365853658534% similarity, with 150 matched token, and 3950 token mismatch\n",
      "## Model validation for 4200 tokens : 3.571428571428571% similarity, with 150 matched token, and 4050 token mismatch\n",
      "## Model validation for 4300 tokens : 3.5348837209302326% similarity, with 152 matched token, and 4148 token mismatch\n",
      "## Model validation for 4400 tokens : 3.5227272727272725% similarity, with 155 matched token, and 4245 token mismatch\n",
      "## Model validation for 4500 tokens : 3.4888888888888885% similarity, with 157 matched token, and 4343 token mismatch\n",
      "## Model validation for 4600 tokens : 3.5000000000000004% similarity, with 161 matched token, and 4439 token mismatch\n",
      "## Model validation for 4700 tokens : 3.5106382978723407% similarity, with 165 matched token, and 4535 token mismatch\n",
      "## Model validation for 4800 tokens : 3.4583333333333335% similarity, with 166 matched token, and 4634 token mismatch\n",
      "## Model validation for 4900 tokens : 3.4489795918367343% similarity, with 169 matched token, and 4731 token mismatch\n",
      "## Model validation for 5000 tokens : 3.38% similarity, with 169 matched token, and 4831 token mismatch\n",
      "## Model validation for 5100 tokens : 3.392156862745098% similarity, with 173 matched token, and 4927 token mismatch\n",
      "## Model validation for 5200 tokens : 3.307692307692308% similarity, with 172 matched token, and 5028 token mismatch\n",
      "## Model validation for 5300 tokens : 3.3207547169811322% similarity, with 176 matched token, and 5124 token mismatch\n",
      "## Model validation for 5400 tokens : 3.2407407407407405% similarity, with 175 matched token, and 5225 token mismatch\n",
      "## Model validation for 5500 tokens : 3.272727272727273% similarity, with 180 matched token, and 5320 token mismatch\n",
      "## Model validation for 5600 tokens : 3.2857142857142856% similarity, with 184 matched token, and 5416 token mismatch\n",
      "## Model validation for 5700 tokens : 3.263157894736842% similarity, with 186 matched token, and 5514 token mismatch\n",
      "## Model validation for 5800 tokens : 3.2241379310344827% similarity, with 187 matched token, and 5613 token mismatch\n",
      "## Model validation for 5900 tokens : 3.2542372881355934% similarity, with 192 matched token, and 5708 token mismatch\n",
      "## Model validation for 6000 tokens : 3.2333333333333334% similarity, with 194 matched token, and 5806 token mismatch\n",
      "## Model validation for 6100 tokens : 3.245901639344263% similarity, with 198 matched token, and 5902 token mismatch\n",
      "## Model validation for 6200 tokens : 3.225806451612903% similarity, with 200 matched token, and 6000 token mismatch\n",
      "## Model validation for 6300 tokens : 3.2380952380952377% similarity, with 204 matched token, and 6096 token mismatch\n",
      "## Model validation for 6400 tokens : 3.2343749999999996% similarity, with 207 matched token, and 6193 token mismatch\n",
      "## Model validation for 6500 tokens : 3.2615384615384615% similarity, with 212 matched token, and 6288 token mismatch\n",
      "## Model validation for 6600 tokens : 3.2424242424242427% similarity, with 214 matched token, and 6386 token mismatch\n",
      "## Model validation for 6700 tokens : 3.268656716417911% similarity, with 219 matched token, and 6481 token mismatch\n",
      "## Model validation for 6800 tokens : 3.25% similarity, with 221 matched token, and 6579 token mismatch\n",
      "## Model validation for 6900 tokens : 3.27536231884058% similarity, with 226 matched token, and 6674 token mismatch\n",
      "## Model validation for 7000 tokens : 3.257142857142857% similarity, with 228 matched token, and 6772 token mismatch\n",
      "## Model validation for 7100 tokens : 3.2394366197183095% similarity, with 230 matched token, and 6870 token mismatch\n",
      "## Model validation for 7200 tokens : 3.236111111111111% similarity, with 233 matched token, and 6967 token mismatch\n",
      "## Model validation for 7300 tokens : 3.2602739726027394% similarity, with 238 matched token, and 7062 token mismatch\n",
      "## Model validation for 7400 tokens : 3.256756756756757% similarity, with 241 matched token, and 7159 token mismatch\n",
      "## Model validation for 7500 tokens : 3.2399999999999998% similarity, with 243 matched token, and 7257 token mismatch\n",
      "## Model validation for 7600 tokens : 3.25% similarity, with 247 matched token, and 7353 token mismatch\n",
      "## Model validation for 7700 tokens : 3.25974025974026% similarity, with 251 matched token, and 7449 token mismatch\n",
      "## Model validation for 7800 tokens : 3.2435897435897436% similarity, with 253 matched token, and 7547 token mismatch\n",
      "## Model validation for 7900 tokens : 3.2405063291139244% similarity, with 256 matched token, and 7644 token mismatch\n",
      "## Model validation for 8000 tokens : 3.2375000000000003% similarity, with 259 matched token, and 7741 token mismatch\n",
      "## Model validation for 8100 tokens : 3.2839506172839505% similarity, with 266 matched token, and 7834 token mismatch\n",
      "## Model validation for 8200 tokens : 3.2682926829268295% similarity, with 268 matched token, and 7932 token mismatch\n",
      "## Model validation for 8300 tokens : 3.2530120481927707% similarity, with 270 matched token, and 8030 token mismatch\n",
      "## Model validation for 8400 tokens : 3.2380952380952377% similarity, with 272 matched token, and 8128 token mismatch\n",
      "## Model validation for 8500 tokens : 3.2705882352941176% similarity, with 278 matched token, and 8222 token mismatch\n",
      "## Model validation for 8600 tokens : 3.2674418604651168% similarity, with 281 matched token, and 8319 token mismatch\n",
      "## Model validation for 8700 tokens : 3.2758620689655173% similarity, with 285 matched token, and 8415 token mismatch\n",
      "## Model validation for 8800 tokens : 3.25% similarity, with 286 matched token, and 8514 token mismatch\n",
      "## Model validation for 8900 tokens : 3.258426966292135% similarity, with 290 matched token, and 8610 token mismatch\n",
      "## Model validation for 9000 tokens : 3.255555555555555% similarity, with 293 matched token, and 8707 token mismatch\n",
      "## Model validation for 9100 tokens : 3.274725274725275% similarity, with 298 matched token, and 8802 token mismatch\n",
      "## Model validation for 9200 tokens : 3.2717391304347823% similarity, with 301 matched token, and 8899 token mismatch\n",
      "## Model validation for 9300 tokens : 3.258064516129032% similarity, with 303 matched token, and 8997 token mismatch\n",
      "## Model validation for 9400 tokens : 3.2446808510638294% similarity, with 305 matched token, and 9095 token mismatch\n",
      "## Model validation for 9500 tokens : 3.263157894736842% similarity, with 310 matched token, and 9190 token mismatch\n",
      "## Model validation for 9600 tokens : 3.2604166666666665% similarity, with 313 matched token, and 9287 token mismatch\n",
      "## Model validation for 9700 tokens : 3.257731958762886% similarity, with 316 matched token, and 9384 token mismatch\n",
      "## Model validation for 9800 tokens : 3.2448979591836737% similarity, with 318 matched token, and 9482 token mismatch\n",
      "## Model validation for 9900 tokens : 3.262626262626263% similarity, with 323 matched token, and 9577 token mismatch\n",
      "## Model validation for 10000 tokens : 3.29% similarity, with 329 matched token, and 9671 token mismatch\n",
      "## Model validation for 10100 tokens : 3.306930693069307% similarity, with 334 matched token, and 9766 token mismatch\n",
      "## Model validation for 10200 tokens : 3.294117647058824% similarity, with 336 matched token, and 9864 token mismatch\n",
      "## Model validation for 10300 tokens : 3.2815533980582527% similarity, with 338 matched token, and 9962 token mismatch\n",
      "## Model validation for 10400 tokens : 3.2884615384615388% similarity, with 342 matched token, and 10058 token mismatch\n",
      "## Model validation for 10500 tokens : 3.3047619047619046% similarity, with 347 matched token, and 10153 token mismatch\n",
      "## Model validation for 10600 tokens : 3.2924528301886795% similarity, with 349 matched token, and 10251 token mismatch\n",
      "## Model validation for 10700 tokens : 3.3177570093457946% similarity, with 355 matched token, and 10345 token mismatch\n",
      "## Model validation for 10800 tokens : 3.3240740740740735% similarity, with 359 matched token, and 10441 token mismatch\n",
      "## Model validation for 10900 tokens : 3.311926605504587% similarity, with 361 matched token, and 10539 token mismatch\n",
      "## Model validation for 11000 tokens : 3.327272727272727% similarity, with 366 matched token, and 10634 token mismatch\n",
      "## Model validation for 11100 tokens : 3.3153153153153156% similarity, with 368 matched token, and 10732 token mismatch\n",
      "## Model validation for 11200 tokens : 3.303571428571429% similarity, with 370 matched token, and 10830 token mismatch\n",
      "## Model validation for 11300 tokens : 3.3097345132743365% similarity, with 374 matched token, and 10926 token mismatch\n",
      "## Model validation for 11400 tokens : 3.3421052631578947% similarity, with 381 matched token, and 11019 token mismatch\n",
      "## Model validation for 11500 tokens : 3.3304347826086955% similarity, with 383 matched token, and 11117 token mismatch\n",
      "## Model validation for 11600 tokens : 3.3448275862068964% similarity, with 388 matched token, and 11212 token mismatch\n",
      "## Model validation for 11700 tokens : 3.3333333333333335% similarity, with 390 matched token, and 11310 token mismatch\n",
      "## Model validation for 11800 tokens : 3.347457627118644% similarity, with 395 matched token, and 11405 token mismatch\n",
      "## Model validation for 11900 tokens : 3.34453781512605% similarity, with 398 matched token, and 11502 token mismatch\n",
      "## Model validation for 12000 tokens : 3.3583333333333334% similarity, with 403 matched token, and 11597 token mismatch\n",
      "## Model validation for 12100 tokens : 3.3636363636363638% similarity, with 407 matched token, and 11693 token mismatch\n",
      "## Model validation for 12200 tokens : 3.3524590163934427% similarity, with 409 matched token, and 11791 token mismatch\n",
      "## Model validation for 12300 tokens : 3.3577235772357725% similarity, with 413 matched token, and 11887 token mismatch\n",
      "## Model validation for 12400 tokens : 3.354838709677419% similarity, with 416 matched token, and 11984 token mismatch\n",
      "## Model validation for 12500 tokens : 3.3520000000000003% similarity, with 419 matched token, and 12081 token mismatch\n",
      "## Model validation for 12600 tokens : 3.349206349206349% similarity, with 422 matched token, and 12178 token mismatch\n",
      "## Model validation for 12700 tokens : 3.362204724409449% similarity, with 427 matched token, and 12273 token mismatch\n",
      "## Model validation for 12800 tokens : 3.3515625% similarity, with 429 matched token, and 12371 token mismatch\n",
      "## Model validation for 12900 tokens : 3.356589147286822% similarity, with 433 matched token, and 12467 token mismatch\n",
      "## Model validation for 13000 tokens : 3.3692307692307697% similarity, with 438 matched token, and 12562 token mismatch\n",
      "## Model validation for 13100 tokens : 3.3587786259541987% similarity, with 440 matched token, and 12660 token mismatch\n",
      "## Model validation for 13200 tokens : 3.3636363636363638% similarity, with 444 matched token, and 12756 token mismatch\n",
      "## Model validation for 13300 tokens : 3.3533834586466167% similarity, with 446 matched token, and 12854 token mismatch\n",
      "## Model validation for 13400 tokens : 3.3731343283582094% similarity, with 452 matched token, and 12948 token mismatch\n",
      "## Model validation for 13500 tokens : 3.355555555555555% similarity, with 453 matched token, and 13047 token mismatch\n",
      "## Model validation for 13600 tokens : 3.3602941176470584% similarity, with 457 matched token, and 13143 token mismatch\n",
      "## Model validation for 13700 tokens : 3.343065693430657% similarity, with 458 matched token, and 13242 token mismatch\n",
      "## Model validation for 13800 tokens : 3.355072463768116% similarity, with 463 matched token, and 13337 token mismatch\n",
      "## Model validation for 13900 tokens : 3.3741007194244603% similarity, with 469 matched token, and 13431 token mismatch\n",
      "## Model validation for 14000 tokens : 3.3857142857142857% similarity, with 474 matched token, and 13526 token mismatch\n",
      "## Model validation for 14100 tokens : 3.3829787234042556% similarity, with 477 matched token, and 13623 token mismatch\n",
      "## Model validation for 14200 tokens : 3.373239436619718% similarity, with 479 matched token, and 13721 token mismatch\n",
      "## Model validation for 14300 tokens : 3.3636363636363638% similarity, with 481 matched token, and 13819 token mismatch\n",
      "## Model validation for 14400 tokens : 3.375% similarity, with 486 matched token, and 13914 token mismatch\n",
      "## Model validation for 14500 tokens : 3.36551724137931% similarity, with 488 matched token, and 14012 token mismatch\n",
      "## Model validation for 14600 tokens : 3.356164383561644% similarity, with 490 matched token, and 14110 token mismatch\n",
      "## Model validation for 14700 tokens : 3.387755102040816% similarity, with 498 matched token, and 14202 token mismatch\n",
      "## Model validation for 14800 tokens : 3.371621621621622% similarity, with 499 matched token, and 14301 token mismatch\n",
      "## Model validation for 14900 tokens : 3.3758389261744965% similarity, with 503 matched token, and 14397 token mismatch\n",
      "## Model validation for 15000 tokens : 3.373333333333333% similarity, with 506 matched token, and 14494 token mismatch\n",
      "## Model validation for 15100 tokens : 3.357615894039735% similarity, with 507 matched token, and 14593 token mismatch\n",
      "## Model validation for 15200 tokens : 3.3486842105263155% similarity, with 509 matched token, and 14691 token mismatch\n",
      "## Model validation for 15300 tokens : 3.3529411764705883% similarity, with 513 matched token, and 14787 token mismatch\n",
      "## Model validation for 15400 tokens : 3.3441558441558437% similarity, with 515 matched token, and 14885 token mismatch\n",
      "## Model validation for 15500 tokens : 3.3419354838709676% similarity, with 518 matched token, and 14982 token mismatch\n",
      "## Model validation for 15600 tokens : 3.346153846153846% similarity, with 522 matched token, and 15078 token mismatch\n",
      "## Model validation for 15700 tokens : 3.3503184713375793% similarity, with 526 matched token, and 15174 token mismatch\n",
      "## Model validation for 15800 tokens : 3.3417721518987342% similarity, with 528 matched token, and 15272 token mismatch\n",
      "## Model validation for 15900 tokens : 3.3333333333333335% similarity, with 530 matched token, and 15370 token mismatch\n",
      "## Model validation for 16000 tokens : 3.325% similarity, with 532 matched token, and 15468 token mismatch\n",
      "###\n",
      "### Model validation end ###\n",
      "###\n"
     ]
    }
   ],
   "source": [
    "!python3 ./memory_script/eval_v5_memory_guided.py \"../../../model/v5-L6-D1024-E0_1-mem-ctx-8k.pth\" \"./logs/v5-L6-D1024-E0_1-16k.csv\" 4100 16000"
   ]
  },
  {
   "cell_type": "markdown",
   "metadata": {},
   "source": [
    "# v5-L6-D2048-E0_1-mem-ctx-8k.pth"
   ]
  },
  {
   "cell_type": "code",
   "execution_count": null,
   "metadata": {},
   "outputs": [],
   "source": [
    "!python3 ./memory_script/eval_v5_memory_guided.py \"../../../model/v5-L6-D2048-E0_1-mem-ctx-8k.pth\" \"./logs/v5-L6-D2048-E0_1-1k.csv\""
   ]
  },
  {
   "cell_type": "code",
   "execution_count": null,
   "metadata": {},
   "outputs": [],
   "source": [
    "!python3 ./memory_script/eval_v5_memory_guided.py \"../../../model/v5-L6-D2048-E0_1-mem-ctx-8k.pth\" \"./logs/v5-L6-D2048-E0_1-4k.csv\" 1100 4000"
   ]
  },
  {
   "cell_type": "code",
   "execution_count": null,
   "metadata": {},
   "outputs": [],
   "source": [
    "!python3 ./memory_script/eval_v5_memory_guided.py \"../../../model/v5-L6-D2048-E0_1-mem-ctx-8k.pth\" \"./logs/v5-L6-D2048-E0_1-16k.csv\" 4100 16000"
   ]
  },
  {
   "cell_type": "markdown",
   "metadata": {},
   "source": [
    "# v5-L6-D4096-E0_1-mem-ctx-8k.pth"
   ]
  },
  {
   "cell_type": "code",
   "execution_count": null,
   "metadata": {},
   "outputs": [],
   "source": [
    "!python3 ./memory_script/eval_v5_memory_guided.py \"../../../model/v5-L6-D4096-E0_1-mem-ctx-8k.pth\" \"./logs/v5-L6-D4096-E0_1-1k.csv\""
   ]
  },
  {
   "cell_type": "code",
   "execution_count": null,
   "metadata": {},
   "outputs": [],
   "source": [
    "!python3 ./memory_script/eval_v5_memory_guided.py \"../../../model/v5-L6-D4096-E0_1-mem-ctx-8k.pth\" \"./logs/v5-L6-D4096-E0_1-4k.csv\" 1100 4000"
   ]
  },
  {
   "cell_type": "code",
   "execution_count": null,
   "metadata": {},
   "outputs": [],
   "source": [
    "!python3 ./memory_script/eval_v5_memory_guided.py \"../../../model/v5-L6-D4096-E0_1-mem-ctx-8k.pth\" \"./logs/v5-L6-D4096-E0_1-16k.csv\" 4100 16000"
   ]
  }
 ],
 "metadata": {
  "kernelspec": {
   "display_name": "rwkv-infctx",
   "language": "python",
   "name": "python3"
  },
  "language_info": {
   "codemirror_mode": {
    "name": "ipython",
    "version": 3
   },
   "file_extension": ".py",
   "mimetype": "text/x-python",
   "name": "python",
   "nbconvert_exporter": "python",
   "pygments_lexer": "ipython3",
   "version": "3.11.4"
  },
  "orig_nbformat": 4
 },
 "nbformat": 4,
 "nbformat_minor": 2
}
