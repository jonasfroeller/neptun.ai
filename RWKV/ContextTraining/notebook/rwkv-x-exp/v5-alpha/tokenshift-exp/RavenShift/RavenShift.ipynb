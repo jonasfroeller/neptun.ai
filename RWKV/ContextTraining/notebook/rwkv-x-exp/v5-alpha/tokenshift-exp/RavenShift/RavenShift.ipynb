{
 "cells": [
  {
   "attachments": {},
   "cell_type": "markdown",
   "metadata": {},
   "source": [
    "# RWKV RavenShift\n",
    "\n",
    "The following is a mad experiment in running existing raven code, directly with the new token shift"
   ]
  },
  {
   "attachments": {},
   "cell_type": "markdown",
   "metadata": {},
   "source": [
    "## Basic Setup"
   ]
  },
  {
   "cell_type": "code",
   "execution_count": 10,
   "metadata": {},
   "outputs": [
    {
     "name": "stdout",
     "output_type": "stream",
     "text": [
      "--2023-07-22 14:09:04--  https://huggingface.co/BlinkDL/rwkv-4-raven/resolve/main/RWKV-4-Raven-3B-v12-Eng98%25-Other2%25-20230520-ctx4096.pth\n",
      "Resolving huggingface.co (huggingface.co)... 13.33.33.20, 13.33.33.55, 13.33.33.110, ...\n",
      "Connecting to huggingface.co (huggingface.co)|13.33.33.20|:443... connected.\n",
      "HTTP request sent, awaiting response... 302 Found\n",
      "Location: https://cdn-lfs.huggingface.co/repos/41/55/4155c7aaff64e0f4b926df1a8fff201f8ee3653c39ba67b31e4973ae97828633/1eea1845acfe9729dfdaec66a8d1aeb91a1287d94bebbca5529c13c050540b33?response-content-disposition=attachment%3B+filename*%3DUTF-8%27%27RWKV-4-Raven-3B-v12-Eng98%2525-Other2%2525-20230520-ctx4096.pth%3B+filename%3D%22RWKV-4-Raven-3B-v12-Eng98%25-Other2%25-20230520-ctx4096.pth%22%3B&Expires=1690265344&Policy=eyJTdGF0ZW1lbnQiOlt7IkNvbmRpdGlvbiI6eyJEYXRlTGVzc1RoYW4iOnsiQVdTOkVwb2NoVGltZSI6MTY5MDI2NTM0NH19LCJSZXNvdXJjZSI6Imh0dHBzOi8vY2RuLWxmcy5odWdnaW5nZmFjZS5jby9yZXBvcy80MS81NS80MTU1YzdhYWZmNjRlMGY0YjkyNmRmMWE4ZmZmMjAxZjhlZTM2NTNjMzliYTY3YjMxZTQ5NzNhZTk3ODI4NjMzLzFlZWExODQ1YWNmZTk3MjlkZmRhZWM2NmE4ZDFhZWI5MWExMjg3ZDk0YmViYmNhNTUyOWMxM2MwNTA1NDBiMzM%7EcmVzcG9uc2UtY29udGVudC1kaXNwb3NpdGlvbj0qIn1dfQ__&Signature=WxqRjQo6F4bNzJGYN7vjPcNTFm6VaPhf-xQ134B5hJSedqaScQ0RZNUsEGuBTd%7EHEecsaX0enPs07-%7EJAEvKfEiwKHZJ5X%7ExlCAQSPo4z2OJb53Mr2-voopaWbj56%7EF-9JED%7E2KVRNkrmsIT8MKWjVDN3NLBum%7EcaUlNsYhvnbUlD1XXF8Ceipouneb1k8KaTAC6lZysLh3m1b3CbC%7EU-4-vIWQ0TcGaUglp1n9kaHPLXa04svEqiu4CEBF%7Eu-U6rlVby%7ECjjQVdAPHBXbItQXBzjw4pMswEDgNEJ1TJTwWbUZWUdoTRazzxgv777TM%7EKfwdQH6--cyeTW%7EQt--Ffg__&Key-Pair-Id=KVTP0A1DKRTAX [following]\n",
      "--2023-07-22 14:09:04--  https://cdn-lfs.huggingface.co/repos/41/55/4155c7aaff64e0f4b926df1a8fff201f8ee3653c39ba67b31e4973ae97828633/1eea1845acfe9729dfdaec66a8d1aeb91a1287d94bebbca5529c13c050540b33?response-content-disposition=attachment%3B+filename*%3DUTF-8%27%27RWKV-4-Raven-3B-v12-Eng98%2525-Other2%2525-20230520-ctx4096.pth%3B+filename%3D%22RWKV-4-Raven-3B-v12-Eng98%25-Other2%25-20230520-ctx4096.pth%22%3B&Expires=1690265344&Policy=eyJTdGF0ZW1lbnQiOlt7IkNvbmRpdGlvbiI6eyJEYXRlTGVzc1RoYW4iOnsiQVdTOkVwb2NoVGltZSI6MTY5MDI2NTM0NH19LCJSZXNvdXJjZSI6Imh0dHBzOi8vY2RuLWxmcy5odWdnaW5nZmFjZS5jby9yZXBvcy80MS81NS80MTU1YzdhYWZmNjRlMGY0YjkyNmRmMWE4ZmZmMjAxZjhlZTM2NTNjMzliYTY3YjMxZTQ5NzNhZTk3ODI4NjMzLzFlZWExODQ1YWNmZTk3MjlkZmRhZWM2NmE4ZDFhZWI5MWExMjg3ZDk0YmViYmNhNTUyOWMxM2MwNTA1NDBiMzM%7EcmVzcG9uc2UtY29udGVudC1kaXNwb3NpdGlvbj0qIn1dfQ__&Signature=WxqRjQo6F4bNzJGYN7vjPcNTFm6VaPhf-xQ134B5hJSedqaScQ0RZNUsEGuBTd%7EHEecsaX0enPs07-%7EJAEvKfEiwKHZJ5X%7ExlCAQSPo4z2OJb53Mr2-voopaWbj56%7EF-9JED%7E2KVRNkrmsIT8MKWjVDN3NLBum%7EcaUlNsYhvnbUlD1XXF8Ceipouneb1k8KaTAC6lZysLh3m1b3CbC%7EU-4-vIWQ0TcGaUglp1n9kaHPLXa04svEqiu4CEBF%7Eu-U6rlVby%7ECjjQVdAPHBXbItQXBzjw4pMswEDgNEJ1TJTwWbUZWUdoTRazzxgv777TM%7EKfwdQH6--cyeTW%7EQt--Ffg__&Key-Pair-Id=KVTP0A1DKRTAX\n",
      "Resolving cdn-lfs.huggingface.co (cdn-lfs.huggingface.co)... 18.155.68.128, 18.155.68.73, 18.155.68.94, ...\n",
      "Connecting to cdn-lfs.huggingface.co (cdn-lfs.huggingface.co)|18.155.68.128|:443... connected.\n",
      "HTTP request sent, awaiting response... 200 OK\n",
      "Length: 5969345074 (5.6G) [binary/octet-stream]\n",
      "Saving to: ‘RWKV-4-Raven-3B-v12-Eng98%-Other2%-20230520-ctx4096.pth’\n",
      "\n",
      "RWKV-4-Raven-3B-v12 100%[===================>]   5.56G  17.4MB/s    in 5m 46s  \n",
      "\n",
      "2023-07-22 14:14:52 (16.5 MB/s) - ‘RWKV-4-Raven-3B-v12-Eng98%-Other2%-20230520-ctx4096.pth’ saved [5969345074/5969345074]\n",
      "\n",
      "total 38G\n",
      "drwxrwxr-x  2 picocreator picocreator   10 Jul 22 14:09 .\n",
      "drwxrwxr-x 11 picocreator picocreator   15 Jul 16 00:09 ..\n",
      "-rw-rw-r--  1 picocreator picocreator 2.4G Jul 15 00:57 L12-D2560-init.pth\n",
      "-rw-rw-r--  1 picocreator picocreator 5.6G May 21 15:13 RWKV-4-Raven-3B-v12-Eng98%-Other2%-20230520-ctx4096.pth\n",
      "-rw-rw-r--  1 picocreator picocreator  14G May 22 18:32 RWKV-4-Raven-7B-v12-Eng98%-Other2%-20230521-ctx8192.pth\n",
      "-rw-rw-r--  1 picocreator picocreator 4.8G Jul 16 01:37 TokenShift-A-Tune1.pth\n",
      "-rw-rw-r--  1 picocreator picocreator 4.8G Jul 16 08:54 TokenShift-A-Tune3.pth\n",
      "-rw-rw-r--  1 picocreator picocreator 4.8G Jul 17 00:45 TokenShift-A-Tune4.pth\n",
      "-rw-rw-r--  1 picocreator picocreator 1.7G Jul 20 21:20 TokenShift-B-Tune3.pth\n",
      "-rw-rw-r--  1 picocreator picocreator 1.7G Jul 21 10:35 TokenShift-B-Tune4.pth\n"
     ]
    }
   ],
   "source": [
    "# Lets download the required models\n",
    "!mkdir -p ../../../../model/\n",
    "!mkdir -p ../../../../datapath/\n",
    "!mkdir -p ../../../../checkpoint/\n",
    "!cd ../../../../model/ && wget -nc https://huggingface.co/BlinkDL/rwkv-4-raven/resolve/main/RWKV-4-Raven-3B-v12-Eng98%25-Other2%25-20230520-ctx4096.pth\n",
    "# !cd ../../../../model/ && wget -nc https://huggingface.co/BlinkDL/rwkv-4-raven/resolve/main/RWKV-4-Raven-7B-v12-Eng98%25-Other2%25-20230521-ctx8192.pth\n",
    "!ls -alh ../../../../model/"
   ]
  },
  {
   "cell_type": "code",
   "execution_count": 3,
   "metadata": {},
   "outputs": [
    {
     "name": "stdout",
     "output_type": "stream",
     "text": [
      "DEEPSPEED_STRAT: deepspeed_stage_1\n",
      "ENABLE_WANDB: True\n",
      "GPU_DEVICES: auto\n",
      "NOTEBOOK_DIR: /home/picocreator/rwkv-proj/rwkv5-tokenshift-experiment/notebook/experiment/tokenshift-exp/RavenShift\n",
      "INFERENCE_DIR: /home/picocreator/rwkv-proj/rwkv5-tokenshift-experiment/RWKV-v4wavenet\n",
      "TRAINER_DIR: /home/picocreator/rwkv-proj/rwkv5-tokenshift-experiment/RWKV-v4wavenet\n",
      "PROJECT_DIR: /home/picocreator/rwkv-proj/rwkv5-tokenshift-experiment\n"
     ]
    }
   ],
   "source": [
    "DEEPSPEED_STRAT=\"deepspeed_stage_1\"\n",
    "GPU_DEVICES=\"auto\"\n",
    "ENABLE_WANDB=True\n",
    "WANDB_PREFIX=\"RavenShift-Exp\"\n",
    "\n",
    "print(\"DEEPSPEED_STRAT:\", DEEPSPEED_STRAT)\n",
    "print(\"ENABLE_WANDB:\", ENABLE_WANDB)\n",
    "print(\"GPU_DEVICES:\", GPU_DEVICES)\n",
    "\n",
    "if ENABLE_WANDB:\n",
    "    WANDB_MODE=\"online\"\n",
    "else:\n",
    "    WANDB_MODE=\"disabled\"\n",
    "\n",
    "# Computing the notebook, and various paths\n",
    "import os\n",
    "NOTEBOOK_DIR=os.path.dirname(os.path.abspath(\"__file__\"))\n",
    "PROJECT_DIR=os.path.abspath(os.path.join(NOTEBOOK_DIR, \"../../../../\"))\n",
    "TRAINER_DIR=os.path.abspath(os.path.join(PROJECT_DIR, \"./RWKV-v4wavenet/\"))\n",
    "INFERENCE_DIR=os.path.abspath(os.path.join(PROJECT_DIR, \"./RWKV-v4wavenet/\"))\n",
    "\n",
    "print(\"NOTEBOOK_DIR:\", NOTEBOOK_DIR)\n",
    "print(\"INFERENCE_DIR:\", INFERENCE_DIR)\n",
    "print(\"TRAINER_DIR:\", TRAINER_DIR)\n",
    "print(\"PROJECT_DIR:\", PROJECT_DIR)"
   ]
  },
  {
   "cell_type": "markdown",
   "metadata": {},
   "source": [
    "## Mad Science"
   ]
  },
  {
   "cell_type": "code",
   "execution_count": 16,
   "metadata": {},
   "outputs": [
    {
     "name": "stdout",
     "output_type": "stream",
     "text": [
      "[2023-07-22 14:21:48,088] [INFO] [real_accelerator.py:110:get_accelerator] Setting ds_accelerator to cuda (auto detect)\n",
      "[RWKV.model] Running RWKV model using 'torch-jit' with torch '2.0.1'\n",
      "Using /home/picocreator/.cache/torch_extensions/py311_cu117 as PyTorch extensions root...\n",
      "Detected CUDA files, patching ldflags\n",
      "Emitting ninja build file /home/picocreator/.cache/torch_extensions/py311_cu117/wkv_1024_bf16/build.ninja...\n",
      "Building extension module wkv_1024_bf16...\n",
      "Allowing ninja to set a default number of workers... (overridable by setting the environment variable MAX_JOBS=N)\n",
      "ninja: no work to do.\n",
      "Loading extension module wkv_1024_bf16...\n",
      "--- DRAGON PROMPT ---\n",
      "In a shocking finding, scientist discovered a herd of dragons living in a remote, previously unexplored valley, in Tibet. Even more surprising to the researchers was the fact that the dragons spoke perfect Chinese. The Chinese population was what it's made in the future.\n",
      "\n",
      "Question:\n",
      "What is the meaning of the word 'that'', the meaning of the word \"dragons living in a remote, previously unexplored valley, in Tibet.\"\n",
      "Response:\n",
      "What is the answer?\n",
      "\n",
      "Answer: How many are the dragons living in a remote valley, the scientists are Chinese population and their living in a remote valley, their living in a remote valley, the scientists made in a remote valley, their living in a remote valley, their living in a remote valley, their living in a remote valley, their living in a remote valley, their living in a remote valley, their living in a remote valley, their living in a remote valley, their living in a remote valley, their living in a remote valley, their living in a remote valley, their living in a remote valley, their living in a remote valley, their living in a remote valley, their living in a remote valley, their living in a remote valley, their living in a remote valley, their living in a remote valley, their living in a remote valley, their living in a remote valley, their living in a remote valley, their living in a remote valley, the scientists made in a remote valley, their living in a remote valley, their living in a remote valley, their living in a remote valley, their living in a remote valley, their living in a remote valley, their living in a remote valley, their living in a remote valley, their living in a remote valley, their living in a remote valley, their living in a remote valley, their living in a remote valley, their living in a remote valley, their living in a remote valley, their living in a remote valley, their living in a remote valley, their living in a remote valley, their living in a remote valley, their living in a remote valley, their living in a remote valley, their living in a remote valley, their living in a remote valley, their living in a remote valley, their living in a remote valley, their living in a remote valley, their living in a remote valley, their living in a remote valley, their living in a remote valley, their living in a remote valley, their living in a remote valley, their living in a remote valley, their living in a remote valley, their living in a remote valley, their living in a remote valley, the scientists made in a remote valley, their living in a remote"
     ]
    }
   ],
   "source": [
    "# Lets do a quick dragon prompt validation\n",
    "!cd \"{INFERENCE_DIR}\" && python3 dragon_test.py \"../model/RWKV-4-Raven-3B-v12-Eng98%-Other2%-20230520-ctx4096.pth\" \"cuda\" 500"
   ]
  },
  {
   "cell_type": "code",
   "execution_count": 13,
   "metadata": {},
   "outputs": [
    {
     "name": "stdout",
     "output_type": "stream",
     "text": [
      "[2023-07-22 14:17:25,986] [INFO] [real_accelerator.py:110:get_accelerator] Setting ds_accelerator to cuda (auto detect)\n",
      "[RWKV.model] Running RWKV model using 'torch-jit' with torch '2.0.1'\n",
      "Using /home/picocreator/.cache/torch_extensions/py311_cu117 as PyTorch extensions root...\n",
      "Detected CUDA files, patching ldflags\n",
      "Emitting ninja build file /home/picocreator/.cache/torch_extensions/py311_cu117/wkv_1024_bf16/build.ninja...\n",
      "Building extension module wkv_1024_bf16...\n",
      "Allowing ninja to set a default number of workers... (overridable by setting the environment variable MAX_JOBS=N)\n",
      "ninja: no work to do.\n",
      "Loading extension module wkv_1024_bf16...\n",
      "###\n",
      "### Model validation start ###\n",
      "###\n",
      "## Model validation for 5 tokens : 80.0% similarity, with 4 matched token, and 1 token mismatch\n",
      "## Model validation for 10 tokens : 70.0% similarity, with 7 matched token, and 3 token mismatch\n",
      "## Model validation for 15 tokens : 66.66666666666666% similarity, with 10 matched token, and 5 token mismatch\n",
      "## Model validation for 20 tokens : 50.0% similarity, with 10 matched token, and 10 token mismatch\n",
      "## Model validation for 25 tokens : 52.0% similarity, with 13 matched token, and 12 token mismatch\n",
      "## Model validation for 30 tokens : 53.333333333333336% similarity, with 16 matched token, and 14 token mismatch\n",
      "## Model validation for 35 tokens : 48.57142857142857% similarity, with 17 matched token, and 18 token mismatch\n",
      "## Model validation for 40 tokens : 47.5% similarity, with 19 matched token, and 21 token mismatch\n",
      "## Model validation for 45 tokens : 40.0% similarity, with 18 matched token, and 27 token mismatch\n",
      "## Model validation for 50 tokens : 40.0% similarity, with 20 matched token, and 30 token mismatch\n",
      "## Model validation for 55 tokens : 27.27272727272727% similarity, with 15 matched token, and 40 token mismatch\n",
      "## Model validation for 60 tokens : 45.0% similarity, with 27 matched token, and 33 token mismatch\n",
      "## Model validation for 65 tokens : 30.76923076923077% similarity, with 20 matched token, and 45 token mismatch\n",
      "## Model validation for 70 tokens : 28.57142857142857% similarity, with 20 matched token, and 50 token mismatch\n",
      "## Model validation for 75 tokens : 29.333333333333332% similarity, with 22 matched token, and 53 token mismatch\n",
      "## Model validation for 80 tokens : 31.25% similarity, with 25 matched token, and 55 token mismatch\n",
      "## Model validation for 85 tokens : 29.411764705882355% similarity, with 25 matched token, and 60 token mismatch\n",
      "## Model validation for 90 tokens : 38.88888888888889% similarity, with 35 matched token, and 55 token mismatch\n",
      "## Model validation for 95 tokens : 31.57894736842105% similarity, with 30 matched token, and 65 token mismatch\n",
      "## Model validation for 100 tokens : 28.000000000000004% similarity, with 28 matched token, and 72 token mismatch\n",
      "## Model validation for 105 tokens : 28.57142857142857% similarity, with 30 matched token, and 75 token mismatch\n",
      "## Model validation for 110 tokens : 25.454545454545453% similarity, with 28 matched token, and 82 token mismatch\n",
      "## Model validation for 115 tokens : 26.08695652173913% similarity, with 30 matched token, and 85 token mismatch\n",
      "## Model validation for 120 tokens : 23.333333333333332% similarity, with 28 matched token, and 92 token mismatch\n",
      "## Model validation for 125 tokens : 20.0% similarity, with 25 matched token, and 100 token mismatch\n",
      "## Model validation for 130 tokens : 18.461538461538463% similarity, with 24 matched token, and 106 token mismatch\n",
      "## Model validation for 135 tokens : 15.555555555555555% similarity, with 21 matched token, and 114 token mismatch\n",
      "## Model validation for 140 tokens : 17.857142857142858% similarity, with 25 matched token, and 115 token mismatch\n",
      "## Model validation for 145 tokens : 16.551724137931036% similarity, with 24 matched token, and 121 token mismatch\n",
      "## Model validation for 150 tokens : 15.333333333333332% similarity, with 23 matched token, and 127 token mismatch\n",
      "## Model validation for 160 tokens : 12.5% similarity, with 20 matched token, and 140 token mismatch\n",
      "## Model validation for 170 tokens : 10.0% similarity, with 17 matched token, and 153 token mismatch\n",
      "## Model validation for 180 tokens : 9.444444444444445% similarity, with 17 matched token, and 163 token mismatch\n",
      "## Model validation for 190 tokens : 9.473684210526317% similarity, with 18 matched token, and 172 token mismatch\n",
      "## Model validation for 200 tokens : 9.5% similarity, with 19 matched token, and 181 token mismatch\n",
      "## Model validation for 210 tokens : 8.571428571428571% similarity, with 18 matched token, and 192 token mismatch\n",
      "## Model validation for 220 tokens : 6.363636363636363% similarity, with 14 matched token, and 206 token mismatch\n",
      "## Model validation for 230 tokens : 5.6521739130434785% similarity, with 13 matched token, and 217 token mismatch\n",
      "## Model validation for 240 tokens : 5.833333333333333% similarity, with 14 matched token, and 226 token mismatch\n",
      "## Model validation for 250 tokens : 6.4% similarity, with 16 matched token, and 234 token mismatch\n",
      "## Model validation for 260 tokens : 6.923076923076923% similarity, with 18 matched token, and 242 token mismatch\n",
      "## Model validation for 270 tokens : 5.555555555555555% similarity, with 15 matched token, and 255 token mismatch\n",
      "## Model validation for 280 tokens : 5.714285714285714% similarity, with 16 matched token, and 264 token mismatch\n",
      "## Model validation for 290 tokens : 6.206896551724138% similarity, with 18 matched token, and 272 token mismatch\n",
      "^C\n",
      "Traceback (most recent call last):\n",
      "  File \"/home/picocreator/rwkv-proj/rwkv5-tokenshift-experiment/notebook/experiment/tokenshift-exp/RavenShift/../memory_script/eval_model_memory_guided.py\", line 227, in <module>\n",
      "    validate_model(i)\n",
      "  File \"/home/picocreator/rwkv-proj/rwkv5-tokenshift-experiment/notebook/experiment/tokenshift-exp/RavenShift/../memory_script/eval_model_memory_guided.py\", line 188, in validate_model\n",
      "    logits, state = model.forward([target], state)\n",
      "                    ^^^^^^^^^^^^^^^^^^^^^^^^^^^^^^\n",
      "  File \"/home/picocreator/rwkv-proj/rwkv5-tokenshift-experiment/RWKV-v4wavenet/src/model.py\", line 1270, in forward\n",
      "    return self._forward(tokens, stateObj)\n",
      "           ^^^^^^^^^^^^^^^^^^^^^^^^^^^^^^^\n",
      "  File \"/home/picocreator/rwkv-proj/rwkv5-tokenshift-experiment/RWKV-v4wavenet/src/model.py\", line 1257, in _forward\n",
      "    logits_arr, att_shift_states, ffn_shift_states, wkv_states = self.model.forward(\n",
      "                                                                 ^^^^^^^^^^^^^^^^^^^\n",
      "  File \"/home/picocreator/rwkv-proj/rwkv5-tokenshift-experiment/RWKV-v4wavenet/src/model.py\", line 803, in forward\n",
      "    x, new_state = block(x, last_state)\n",
      "                   ^^^^^^^^^^^^^^^^^^^^\n",
      "  File \"/home/picocreator/anaconda3/envs/rwkv-infctx/lib/python3.11/site-packages/torch/nn/modules/module.py\", line 1501, in _call_impl\n",
      "    return forward_call(*args, **kwargs)\n",
      "           ^^^^^^^^^^^^^^^^^^^^^^^^^^^^^\n",
      "  File \"/home/picocreator/rwkv-proj/rwkv5-tokenshift-experiment/RWKV-v4wavenet/src/model.py\", line 386, in forward\n",
      "    self.ln2(x),\n",
      "    ^^^^^^^^\n",
      "  File \"/home/picocreator/anaconda3/envs/rwkv-infctx/lib/python3.11/site-packages/torch/nn/modules/module.py\", line 1601, in __getattr__\n",
      "    def __getattr__(self, name: str) -> Union[Tensor, 'Module']:\n",
      "\n",
      "KeyboardInterrupt\n"
     ]
    }
   ],
   "source": [
    "# Lets do a memory eval \n",
    "!python3 ../memory_script/eval_model_memory_guided.py \"{PROJECT_DIR}/model/RWKV-4-Raven-3B-v12-Eng98%-Other2%-20230520-ctx4096.pth\" "
   ]
  }
 ],
 "metadata": {
  "kernelspec": {
   "display_name": "Python 3 (ipykernel)",
   "language": "python",
   "name": "python3"
  },
  "language_info": {
   "codemirror_mode": {
    "name": "ipython",
    "version": 3
   },
   "file_extension": ".py",
   "mimetype": "text/x-python",
   "name": "python",
   "nbconvert_exporter": "python",
   "pygments_lexer": "ipython3",
   "version": "3.11.4"
  }
 },
 "nbformat": 4,
 "nbformat_minor": 4
}
