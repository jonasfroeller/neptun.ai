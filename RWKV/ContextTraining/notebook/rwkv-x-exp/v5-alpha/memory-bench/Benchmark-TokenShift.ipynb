{
 "cells": [
  {
   "cell_type": "markdown",
   "metadata": {},
   "source": [
    "## Custom Experimental Memory benchmarking\n",
    "\n",
    "The following is meant to observe the memory performance in a more verbose CSV logging mode, for the baseline raven models"
   ]
  },
  {
   "cell_type": "code",
   "execution_count": null,
   "metadata": {},
   "outputs": [],
   "source": [
    "# Lets download the custom models\n",
    "!mkdir -p ../../../model/\n",
    "!cd ../../../model/ && wget \"https://huggingface.co/picocreator/memory-size-experiment-for-rwkv/resolve/main/Echo-B-1B4-Tune3.pth\""
   ]
  },
  {
   "cell_type": "code",
   "execution_count": null,
   "metadata": {},
   "outputs": [],
   "source": [
    "!ls ../../../model/"
   ]
  },
  {
   "cell_type": "markdown",
   "metadata": {},
   "source": [
    "# Custom L96-D1024 model\n",
    "More layers means more memories right?"
   ]
  },
  {
   "cell_type": "code",
   "execution_count": 8,
   "metadata": {},
   "outputs": [
    {
     "name": "stdout",
     "output_type": "stream",
     "text": [
      "[2023-07-20 00:04:07,873] [INFO] [real_accelerator.py:110:get_accelerator] Setting ds_accelerator to cuda (auto detect)\n",
      "[RWKV.model] Running RWKV model using 'torch-jit' with torch '2.0.1'\n",
      "Using /home/picocreator/.cache/torch_extensions/py311_cu117 as PyTorch extensions root...\n",
      "Detected CUDA files, patching ldflags\n",
      "Emitting ninja build file /home/picocreator/.cache/torch_extensions/py311_cu117/wkv_1024_bf16/build.ninja...\n",
      "Building extension module wkv_1024_bf16...\n",
      "Allowing ninja to set a default number of workers... (overridable by setting the environment variable MAX_JOBS=N)\n",
      "ninja: no work to do.\n",
      "Loading extension module wkv_1024_bf16...\n",
      "###\n",
      "### Model validation start ###\n",
      "###\n",
      "## Model validation for 5 tokens : 100.0% similarity, with 5 matched token, and 0 token mismatch\n",
      "## Model validation for 10 tokens : 100.0% similarity, with 10 matched token, and 0 token mismatch\n",
      "## Model validation for 15 tokens : 100.0% similarity, with 15 matched token, and 0 token mismatch\n",
      "## Model validation for 20 tokens : 100.0% similarity, with 20 matched token, and 0 token mismatch\n",
      "## Model validation for 25 tokens : 100.0% similarity, with 25 matched token, and 0 token mismatch\n",
      "## Model validation for 30 tokens : 100.0% similarity, with 30 matched token, and 0 token mismatch\n",
      "## Model validation for 35 tokens : 100.0% similarity, with 35 matched token, and 0 token mismatch\n",
      "## Model validation for 40 tokens : 100.0% similarity, with 40 matched token, and 0 token mismatch\n",
      "## Model validation for 45 tokens : 100.0% similarity, with 45 matched token, and 0 token mismatch\n",
      "## Model validation for 50 tokens : 100.0% similarity, with 50 matched token, and 0 token mismatch\n",
      "## Model validation for 55 tokens : 100.0% similarity, with 55 matched token, and 0 token mismatch\n",
      "## Model validation for 60 tokens : 100.0% similarity, with 60 matched token, and 0 token mismatch\n",
      "## Model validation for 65 tokens : 100.0% similarity, with 65 matched token, and 0 token mismatch\n",
      "## Model validation for 70 tokens : 100.0% similarity, with 70 matched token, and 0 token mismatch\n",
      "## Model validation for 75 tokens : 100.0% similarity, with 75 matched token, and 0 token mismatch\n",
      "## Model validation for 80 tokens : 100.0% similarity, with 80 matched token, and 0 token mismatch\n",
      "## Model validation for 85 tokens : 100.0% similarity, with 85 matched token, and 0 token mismatch\n",
      "## Model validation for 90 tokens : 100.0% similarity, with 90 matched token, and 0 token mismatch\n",
      "## Model validation for 95 tokens : 100.0% similarity, with 95 matched token, and 0 token mismatch\n",
      "## Model validation for 100 tokens : 100.0% similarity, with 100 matched token, and 0 token mismatch\n",
      "## Model validation for 105 tokens : 100.0% similarity, with 105 matched token, and 0 token mismatch\n",
      "## Model validation for 110 tokens : 98.18181818181819% similarity, with 108 matched token, and 2 token mismatch\n",
      "## Model validation for 115 tokens : 98.26086956521739% similarity, with 113 matched token, and 2 token mismatch\n",
      "## Model validation for 120 tokens : 98.33333333333333% similarity, with 118 matched token, and 2 token mismatch\n",
      "## Model validation for 125 tokens : 98.4% similarity, with 123 matched token, and 2 token mismatch\n",
      "## Model validation for 130 tokens : 97.6923076923077% similarity, with 127 matched token, and 3 token mismatch\n",
      "## Model validation for 135 tokens : 97.77777777777777% similarity, with 132 matched token, and 3 token mismatch\n",
      "## Model validation for 140 tokens : 97.85714285714285% similarity, with 137 matched token, and 3 token mismatch\n",
      "## Model validation for 145 tokens : 97.93103448275862% similarity, with 142 matched token, and 3 token mismatch\n",
      "## Model validation for 150 tokens : 98.66666666666667% similarity, with 148 matched token, and 2 token mismatch\n",
      "## Model validation for 160 tokens : 98.75% similarity, with 158 matched token, and 2 token mismatch\n",
      "## Model validation for 170 tokens : 98.82352941176471% similarity, with 168 matched token, and 2 token mismatch\n",
      "## Model validation for 180 tokens : 97.22222222222221% similarity, with 175 matched token, and 5 token mismatch\n",
      "## Model validation for 190 tokens : 95.78947368421052% similarity, with 182 matched token, and 8 token mismatch\n",
      "## Model validation for 200 tokens : 95.5% similarity, with 191 matched token, and 9 token mismatch\n",
      "## Model validation for 210 tokens : 94.76190476190476% similarity, with 199 matched token, and 11 token mismatch\n",
      "## Model validation for 220 tokens : 94.0909090909091% similarity, with 207 matched token, and 13 token mismatch\n",
      "## Model validation for 230 tokens : 93.04347826086956% similarity, with 214 matched token, and 16 token mismatch\n",
      "## Model validation for 240 tokens : 92.5% similarity, with 222 matched token, and 18 token mismatch\n",
      "## Model validation for 250 tokens : 92.80000000000001% similarity, with 232 matched token, and 18 token mismatch\n",
      "## Model validation for 260 tokens : 89.23076923076924% similarity, with 232 matched token, and 28 token mismatch\n",
      "## Model validation for 270 tokens : 88.14814814814815% similarity, with 238 matched token, and 32 token mismatch\n",
      "## Model validation for 280 tokens : 86.42857142857143% similarity, with 242 matched token, and 38 token mismatch\n",
      "## Model validation for 290 tokens : 85.86206896551725% similarity, with 249 matched token, and 41 token mismatch\n",
      "## Model validation for 300 tokens : 83.0% similarity, with 249 matched token, and 51 token mismatch\n",
      "## Model validation for 325 tokens : 80.0% similarity, with 260 matched token, and 65 token mismatch\n",
      "## Model validation for 350 tokens : 74.0% similarity, with 259 matched token, and 91 token mismatch\n",
      "## Model validation for 375 tokens : 70.13333333333334% similarity, with 263 matched token, and 112 token mismatch\n",
      "## Model validation for 400 tokens : 65.0% similarity, with 260 matched token, and 140 token mismatch\n",
      "## Model validation for 425 tokens : 58.82352941176471% similarity, with 250 matched token, and 175 token mismatch\n",
      "## Model validation for 450 tokens : 53.77777777777778% similarity, with 242 matched token, and 208 token mismatch\n",
      "## Model validation for 475 tokens : 46.94736842105263% similarity, with 223 matched token, and 252 token mismatch\n",
      "## Model validation for 500 tokens : 43.4% similarity, with 217 matched token, and 283 token mismatch\n",
      "## Model validation for 525 tokens : 38.666666666666664% similarity, with 203 matched token, and 322 token mismatch\n",
      "## Model validation for 550 tokens : 35.81818181818181% similarity, with 197 matched token, and 353 token mismatch\n",
      "## Model validation for 575 tokens : 30.434782608695656% similarity, with 175 matched token, and 400 token mismatch\n",
      "## Model validation for 600 tokens : 27.0% similarity, with 162 matched token, and 438 token mismatch\n",
      "## Model validation for 625 tokens : 22.400000000000002% similarity, with 140 matched token, and 485 token mismatch\n",
      "## Model validation for 650 tokens : 19.846153846153847% similarity, with 129 matched token, and 521 token mismatch\n",
      "## Model validation for 675 tokens : 17.925925925925927% similarity, with 121 matched token, and 554 token mismatch\n",
      "## Model validation for 700 tokens : 16.142857142857142% similarity, with 113 matched token, and 587 token mismatch\n",
      "## Model validation for 750 tokens : 14.000000000000002% similarity, with 105 matched token, and 645 token mismatch\n",
      "## Model validation for 800 tokens : 11.75% similarity, with 94 matched token, and 706 token mismatch\n",
      "## Model validation for 850 tokens : 9.88235294117647% similarity, with 84 matched token, and 766 token mismatch\n",
      "## Model validation for 900 tokens : 8.222222222222223% similarity, with 74 matched token, and 826 token mismatch\n",
      "## Model validation for 950 tokens : 7.7894736842105265% similarity, with 74 matched token, and 876 token mismatch\n",
      "## Model validation for 1000 tokens : 6.9% similarity, with 69 matched token, and 931 token mismatch\n",
      "## Finished baseline model to eval output predictive matching (aka 0 memory?), for 1000 tokens\n"
     ]
    }
   ],
   "source": [
    "# Memory benchmarking of the Echo-B-1B4-Tune3.pth\n",
    "!python3 ./memory_script/eval_model_memory_guided.py \"../../../model/Echo-B-1B4-Tune3.pth\" \"./logs/Echo-B-1B4-Tune3-L96-D1024.csv\""
   ]
  }
 ],
 "metadata": {
  "kernelspec": {
   "display_name": "rwkv-infctx",
   "language": "python",
   "name": "python3"
  },
  "language_info": {
   "codemirror_mode": {
    "name": "ipython",
    "version": 3
   },
   "file_extension": ".py",
   "mimetype": "text/x-python",
   "name": "python",
   "nbconvert_exporter": "python",
   "pygments_lexer": "ipython3",
   "version": "3.11.4"
  },
  "orig_nbformat": 4
 },
 "nbformat": 4,
 "nbformat_minor": 2
}
