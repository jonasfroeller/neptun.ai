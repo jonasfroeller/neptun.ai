{
 "cells": [
  {
   "attachments": {},
   "cell_type": "markdown",
   "metadata": {},
   "source": [
    "# Check the eval word list\n",
    "\n",
    "Because the original eval word list was generated using a JS based word list generator, and we are moving to a full python based word list (which is also larger).\n",
    "We need to do a quick check that every word in the eval list, is in the full word list"
   ]
  },
  {
   "cell_type": "code",
   "execution_count": 4,
   "metadata": {},
   "outputs": [
    {
     "name": "stdout",
     "output_type": "stream",
     "text": [
      "Words missing in the full word list:\n",
      "---\n",
      "If there are any limited words above not in the full list, it has to be copied over\n"
     ]
    }
   ],
   "source": [
    "# Load the full word list\n",
    "def load_words(file_path):\n",
    "    with open(file_path) as word_file:\n",
    "        valid_words = set(word_file.read().split())\n",
    "    return valid_words\n",
    "\n",
    "# Lets get the limited word list\n",
    "eval_words = load_words('limited_word_list.txt')\n",
    "\n",
    "# Lets get the full word list\n",
    "full_words = load_words('full_word_list.txt')\n",
    "\n",
    "# Lets iterate over the eval words and see if they are in the full word list\n",
    "print(\"Words missing in the full word list:\")\n",
    "for word in eval_words:\n",
    "    if word not in full_words:\n",
    "        print(word)\n",
    "\n",
    "print(\"---\")\n",
    "print(\"If there are any limited words above not in the full list, it has to be copied over\")"
   ]
  }
 ],
 "metadata": {
  "kernelspec": {
   "display_name": "rwkv-infctx",
   "language": "python",
   "name": "python3"
  },
  "language_info": {
   "codemirror_mode": {
    "name": "ipython",
    "version": 3
   },
   "file_extension": ".py",
   "mimetype": "text/x-python",
   "name": "python",
   "nbconvert_exporter": "python",
   "pygments_lexer": "ipython3",
   "version": "3.11.4"
  },
  "orig_nbformat": 4
 },
 "nbformat": 4,
 "nbformat_minor": 2
}
